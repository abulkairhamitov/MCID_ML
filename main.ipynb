{
 "cells": [
  {
   "cell_type": "markdown",
   "id": "5e964440",
   "metadata": {},
   "source": [
    "# Предобработка"
   ]
  },
  {
   "cell_type": "markdown",
   "id": "66d2f29b",
   "metadata": {},
   "source": [
    "#### Важное замечание: в датасете собраны в том числе ответы на опросники про коленный и тазобедренный сустав, поэтому данные пациентов, которые не проходили один из опросов, будут заполнены пропусками, из-за чего может показаться, что датасет пустой\n"
   ]
  },
  {
   "cell_type": "code",
   "execution_count": 1,
   "id": "4e2aadd8",
   "metadata": {
    "ExecuteTime": {
     "end_time": "2023-04-18T14:25:26.071462Z",
     "start_time": "2023-04-18T14:25:22.419839Z"
    }
   },
   "outputs": [],
   "source": [
    "import pandas as pd\n",
    "import numpy as np\n",
    "import seaborn as sns                       #visualisation\n",
    "import matplotlib.pyplot as plt             #visualisation\n",
    "from sklearn import preprocessing\n",
    "import random\n",
    "\n",
    "random.seed(42)"
   ]
  },
  {
   "cell_type": "code",
   "execution_count": 2,
   "id": "661066f2",
   "metadata": {
    "ExecuteTime": {
     "end_time": "2023-04-18T14:25:26.362151Z",
     "start_time": "2023-04-18T14:25:26.071462Z"
    }
   },
   "outputs": [
    {
     "data": {
      "text/html": [
       "<div>\n",
       "<style scoped>\n",
       "    .dataframe tbody tr th:only-of-type {\n",
       "        vertical-align: middle;\n",
       "    }\n",
       "\n",
       "    .dataframe tbody tr th {\n",
       "        vertical-align: top;\n",
       "    }\n",
       "\n",
       "    .dataframe thead th {\n",
       "        text-align: right;\n",
       "    }\n",
       "</style>\n",
       "<table border=\"1\" class=\"dataframe\">\n",
       "  <thead>\n",
       "    <tr style=\"text-align: right;\">\n",
       "      <th></th>\n",
       "      <th>pers_age</th>\n",
       "      <th>pers_sex</th>\n",
       "      <th>sch_edu</th>\n",
       "      <th>non_sch_edu</th>\n",
       "      <th>bmi</th>\n",
       "      <th>proc</th>\n",
       "      <th>joint</th>\n",
       "      <th>side</th>\n",
       "      <th>pjr_diag</th>\n",
       "      <th>pjr_diag_oth</th>\n",
       "      <th>...</th>\n",
       "      <th>compl_mth6_nodm_spec___17</th>\n",
       "      <th>compl_mth6_nodm_spec___18</th>\n",
       "      <th>compl_mth6_nodm_spec___19</th>\n",
       "      <th>compl_mth6_nodm_spec___20</th>\n",
       "      <th>compl_mth6_nodm_spec___89</th>\n",
       "      <th>compl_mth6_nodm_spec___999</th>\n",
       "      <th>q1_exp_pain</th>\n",
       "      <th>q1_exp_function</th>\n",
       "      <th>mth6_satisf</th>\n",
       "      <th>mth6_success</th>\n",
       "    </tr>\n",
       "  </thead>\n",
       "  <tbody>\n",
       "    <tr>\n",
       "      <th>0</th>\n",
       "      <td>60</td>\n",
       "      <td>1.0</td>\n",
       "      <td>3.0</td>\n",
       "      <td>6.0</td>\n",
       "      <td>10.0</td>\n",
       "      <td>1</td>\n",
       "      <td>1</td>\n",
       "      <td>1.0</td>\n",
       "      <td>1.0</td>\n",
       "      <td>NaN</td>\n",
       "      <td>...</td>\n",
       "      <td>0</td>\n",
       "      <td>0</td>\n",
       "      <td>0</td>\n",
       "      <td>0</td>\n",
       "      <td>0</td>\n",
       "      <td>0</td>\n",
       "      <td>4.0</td>\n",
       "      <td>4.0</td>\n",
       "      <td>999.0</td>\n",
       "      <td>999.0</td>\n",
       "    </tr>\n",
       "    <tr>\n",
       "      <th>1</th>\n",
       "      <td>72</td>\n",
       "      <td>1.0</td>\n",
       "      <td>3.0</td>\n",
       "      <td>6.0</td>\n",
       "      <td>26.6</td>\n",
       "      <td>1</td>\n",
       "      <td>2</td>\n",
       "      <td>1.0</td>\n",
       "      <td>1.0</td>\n",
       "      <td>NaN</td>\n",
       "      <td>...</td>\n",
       "      <td>0</td>\n",
       "      <td>0</td>\n",
       "      <td>0</td>\n",
       "      <td>0</td>\n",
       "      <td>0</td>\n",
       "      <td>0</td>\n",
       "      <td>3.0</td>\n",
       "      <td>4.0</td>\n",
       "      <td>2.0</td>\n",
       "      <td>3.0</td>\n",
       "    </tr>\n",
       "    <tr>\n",
       "      <th>2</th>\n",
       "      <td>64</td>\n",
       "      <td>1.0</td>\n",
       "      <td>3.0</td>\n",
       "      <td>1.0</td>\n",
       "      <td>30.1</td>\n",
       "      <td>1</td>\n",
       "      <td>2</td>\n",
       "      <td>3.0</td>\n",
       "      <td>1.0</td>\n",
       "      <td>NaN</td>\n",
       "      <td>...</td>\n",
       "      <td>0</td>\n",
       "      <td>0</td>\n",
       "      <td>0</td>\n",
       "      <td>0</td>\n",
       "      <td>0</td>\n",
       "      <td>0</td>\n",
       "      <td>4.0</td>\n",
       "      <td>4.0</td>\n",
       "      <td>3.0</td>\n",
       "      <td>4.0</td>\n",
       "    </tr>\n",
       "    <tr>\n",
       "      <th>3</th>\n",
       "      <td>72</td>\n",
       "      <td>1.0</td>\n",
       "      <td>4.0</td>\n",
       "      <td>1.0</td>\n",
       "      <td>33.2</td>\n",
       "      <td>4</td>\n",
       "      <td>1</td>\n",
       "      <td>999.0</td>\n",
       "      <td>NaN</td>\n",
       "      <td>NaN</td>\n",
       "      <td>...</td>\n",
       "      <td>0</td>\n",
       "      <td>0</td>\n",
       "      <td>0</td>\n",
       "      <td>0</td>\n",
       "      <td>0</td>\n",
       "      <td>0</td>\n",
       "      <td>999.0</td>\n",
       "      <td>999.0</td>\n",
       "      <td>3.0</td>\n",
       "      <td>4.0</td>\n",
       "    </tr>\n",
       "    <tr>\n",
       "      <th>4</th>\n",
       "      <td>70</td>\n",
       "      <td>1.0</td>\n",
       "      <td>4.0</td>\n",
       "      <td>1.0</td>\n",
       "      <td>23.1</td>\n",
       "      <td>1</td>\n",
       "      <td>2</td>\n",
       "      <td>2.0</td>\n",
       "      <td>1.0</td>\n",
       "      <td>NaN</td>\n",
       "      <td>...</td>\n",
       "      <td>0</td>\n",
       "      <td>0</td>\n",
       "      <td>0</td>\n",
       "      <td>0</td>\n",
       "      <td>0</td>\n",
       "      <td>0</td>\n",
       "      <td>3.0</td>\n",
       "      <td>4.0</td>\n",
       "      <td>3.0</td>\n",
       "      <td>4.0</td>\n",
       "    </tr>\n",
       "  </tbody>\n",
       "</table>\n",
       "<p>5 rows × 227 columns</p>\n",
       "</div>"
      ],
      "text/plain": [
       "   pers_age  pers_sex  sch_edu  non_sch_edu   bmi  proc  joint   side  \\\n",
       "0        60       1.0      3.0          6.0  10.0     1      1    1.0   \n",
       "1        72       1.0      3.0          6.0  26.6     1      2    1.0   \n",
       "2        64       1.0      3.0          1.0  30.1     1      2    3.0   \n",
       "3        72       1.0      4.0          1.0  33.2     4      1  999.0   \n",
       "4        70       1.0      4.0          1.0  23.1     1      2    2.0   \n",
       "\n",
       "   pjr_diag pjr_diag_oth  ...  compl_mth6_nodm_spec___17  \\\n",
       "0       1.0          NaN  ...                          0   \n",
       "1       1.0          NaN  ...                          0   \n",
       "2       1.0          NaN  ...                          0   \n",
       "3       NaN          NaN  ...                          0   \n",
       "4       1.0          NaN  ...                          0   \n",
       "\n",
       "  compl_mth6_nodm_spec___18  compl_mth6_nodm_spec___19  \\\n",
       "0                         0                          0   \n",
       "1                         0                          0   \n",
       "2                         0                          0   \n",
       "3                         0                          0   \n",
       "4                         0                          0   \n",
       "\n",
       "   compl_mth6_nodm_spec___20  compl_mth6_nodm_spec___89  \\\n",
       "0                          0                          0   \n",
       "1                          0                          0   \n",
       "2                          0                          0   \n",
       "3                          0                          0   \n",
       "4                          0                          0   \n",
       "\n",
       "   compl_mth6_nodm_spec___999  q1_exp_pain  q1_exp_function  mth6_satisf  \\\n",
       "0                           0          4.0              4.0        999.0   \n",
       "1                           0          3.0              4.0          2.0   \n",
       "2                           0          4.0              4.0          3.0   \n",
       "3                           0        999.0            999.0          3.0   \n",
       "4                           0          3.0              4.0          3.0   \n",
       "\n",
       "   mth6_success  \n",
       "0         999.0  \n",
       "1           3.0  \n",
       "2           4.0  \n",
       "3           4.0  \n",
       "4           4.0  \n",
       "\n",
       "[5 rows x 227 columns]"
      ]
     },
     "execution_count": 2,
     "metadata": {},
     "output_type": "execute_result"
    }
   ],
   "source": [
    "df = pd.read_csv(\"data.csv\")\n",
    "df.head()"
   ]
  },
  {
   "cell_type": "code",
   "execution_count": 3,
   "id": "2de3ae72",
   "metadata": {
    "ExecuteTime": {
     "end_time": "2023-04-18T14:25:26.515730Z",
     "start_time": "2023-04-18T14:25:26.362151Z"
    }
   },
   "outputs": [
    {
     "name": "stdout",
     "output_type": "stream",
     "text": [
      "number of duplicate rows:  (0, 227)\n"
     ]
    }
   ],
   "source": [
    "duplicate_rows_df = df[df.duplicated()]\n",
    "print(\"number of duplicate rows: \", duplicate_rows_df.shape)"
   ]
  },
  {
   "cell_type": "markdown",
   "id": "038be128",
   "metadata": {},
   "source": [
    "#### Заменим 999 на пропуски"
   ]
  },
  {
   "cell_type": "code",
   "execution_count": 4,
   "id": "d698d66a",
   "metadata": {
    "ExecuteTime": {
     "end_time": "2023-04-18T14:25:26.641434Z",
     "start_time": "2023-04-18T14:25:26.515730Z"
    }
   },
   "outputs": [
    {
     "data": {
      "text/html": [
       "<div>\n",
       "<style scoped>\n",
       "    .dataframe tbody tr th:only-of-type {\n",
       "        vertical-align: middle;\n",
       "    }\n",
       "\n",
       "    .dataframe tbody tr th {\n",
       "        vertical-align: top;\n",
       "    }\n",
       "\n",
       "    .dataframe thead th {\n",
       "        text-align: right;\n",
       "    }\n",
       "</style>\n",
       "<table border=\"1\" class=\"dataframe\">\n",
       "  <thead>\n",
       "    <tr style=\"text-align: right;\">\n",
       "      <th></th>\n",
       "      <th>pers_age</th>\n",
       "      <th>pers_sex</th>\n",
       "      <th>sch_edu</th>\n",
       "      <th>non_sch_edu</th>\n",
       "      <th>bmi</th>\n",
       "      <th>proc</th>\n",
       "      <th>joint</th>\n",
       "      <th>side</th>\n",
       "      <th>pjr_diag</th>\n",
       "      <th>pjr_diag_oth</th>\n",
       "      <th>...</th>\n",
       "      <th>compl_mth6_nodm_spec___17</th>\n",
       "      <th>compl_mth6_nodm_spec___18</th>\n",
       "      <th>compl_mth6_nodm_spec___19</th>\n",
       "      <th>compl_mth6_nodm_spec___20</th>\n",
       "      <th>compl_mth6_nodm_spec___89</th>\n",
       "      <th>compl_mth6_nodm_spec___999</th>\n",
       "      <th>q1_exp_pain</th>\n",
       "      <th>q1_exp_function</th>\n",
       "      <th>mth6_satisf</th>\n",
       "      <th>mth6_success</th>\n",
       "    </tr>\n",
       "  </thead>\n",
       "  <tbody>\n",
       "    <tr>\n",
       "      <th>0</th>\n",
       "      <td>60</td>\n",
       "      <td>1.0</td>\n",
       "      <td>3.0</td>\n",
       "      <td>6.0</td>\n",
       "      <td>10.0</td>\n",
       "      <td>1.0</td>\n",
       "      <td>1</td>\n",
       "      <td>1.0</td>\n",
       "      <td>1.0</td>\n",
       "      <td>NaN</td>\n",
       "      <td>...</td>\n",
       "      <td>0</td>\n",
       "      <td>0</td>\n",
       "      <td>0</td>\n",
       "      <td>0</td>\n",
       "      <td>0</td>\n",
       "      <td>0</td>\n",
       "      <td>4.0</td>\n",
       "      <td>4.0</td>\n",
       "      <td>NaN</td>\n",
       "      <td>NaN</td>\n",
       "    </tr>\n",
       "    <tr>\n",
       "      <th>1</th>\n",
       "      <td>72</td>\n",
       "      <td>1.0</td>\n",
       "      <td>3.0</td>\n",
       "      <td>6.0</td>\n",
       "      <td>26.6</td>\n",
       "      <td>1.0</td>\n",
       "      <td>2</td>\n",
       "      <td>1.0</td>\n",
       "      <td>1.0</td>\n",
       "      <td>NaN</td>\n",
       "      <td>...</td>\n",
       "      <td>0</td>\n",
       "      <td>0</td>\n",
       "      <td>0</td>\n",
       "      <td>0</td>\n",
       "      <td>0</td>\n",
       "      <td>0</td>\n",
       "      <td>3.0</td>\n",
       "      <td>4.0</td>\n",
       "      <td>2.0</td>\n",
       "      <td>3.0</td>\n",
       "    </tr>\n",
       "    <tr>\n",
       "      <th>2</th>\n",
       "      <td>64</td>\n",
       "      <td>1.0</td>\n",
       "      <td>3.0</td>\n",
       "      <td>1.0</td>\n",
       "      <td>30.1</td>\n",
       "      <td>1.0</td>\n",
       "      <td>2</td>\n",
       "      <td>3.0</td>\n",
       "      <td>1.0</td>\n",
       "      <td>NaN</td>\n",
       "      <td>...</td>\n",
       "      <td>0</td>\n",
       "      <td>0</td>\n",
       "      <td>0</td>\n",
       "      <td>0</td>\n",
       "      <td>0</td>\n",
       "      <td>0</td>\n",
       "      <td>4.0</td>\n",
       "      <td>4.0</td>\n",
       "      <td>3.0</td>\n",
       "      <td>4.0</td>\n",
       "    </tr>\n",
       "    <tr>\n",
       "      <th>3</th>\n",
       "      <td>72</td>\n",
       "      <td>1.0</td>\n",
       "      <td>4.0</td>\n",
       "      <td>1.0</td>\n",
       "      <td>33.2</td>\n",
       "      <td>4.0</td>\n",
       "      <td>1</td>\n",
       "      <td>NaN</td>\n",
       "      <td>NaN</td>\n",
       "      <td>NaN</td>\n",
       "      <td>...</td>\n",
       "      <td>0</td>\n",
       "      <td>0</td>\n",
       "      <td>0</td>\n",
       "      <td>0</td>\n",
       "      <td>0</td>\n",
       "      <td>0</td>\n",
       "      <td>NaN</td>\n",
       "      <td>NaN</td>\n",
       "      <td>3.0</td>\n",
       "      <td>4.0</td>\n",
       "    </tr>\n",
       "    <tr>\n",
       "      <th>4</th>\n",
       "      <td>70</td>\n",
       "      <td>1.0</td>\n",
       "      <td>4.0</td>\n",
       "      <td>1.0</td>\n",
       "      <td>23.1</td>\n",
       "      <td>1.0</td>\n",
       "      <td>2</td>\n",
       "      <td>2.0</td>\n",
       "      <td>1.0</td>\n",
       "      <td>NaN</td>\n",
       "      <td>...</td>\n",
       "      <td>0</td>\n",
       "      <td>0</td>\n",
       "      <td>0</td>\n",
       "      <td>0</td>\n",
       "      <td>0</td>\n",
       "      <td>0</td>\n",
       "      <td>3.0</td>\n",
       "      <td>4.0</td>\n",
       "      <td>3.0</td>\n",
       "      <td>4.0</td>\n",
       "    </tr>\n",
       "  </tbody>\n",
       "</table>\n",
       "<p>5 rows × 227 columns</p>\n",
       "</div>"
      ],
      "text/plain": [
       "   pers_age  pers_sex  sch_edu  non_sch_edu   bmi  proc  joint  side  \\\n",
       "0        60       1.0      3.0          6.0  10.0   1.0      1   1.0   \n",
       "1        72       1.0      3.0          6.0  26.6   1.0      2   1.0   \n",
       "2        64       1.0      3.0          1.0  30.1   1.0      2   3.0   \n",
       "3        72       1.0      4.0          1.0  33.2   4.0      1   NaN   \n",
       "4        70       1.0      4.0          1.0  23.1   1.0      2   2.0   \n",
       "\n",
       "   pjr_diag pjr_diag_oth  ...  compl_mth6_nodm_spec___17  \\\n",
       "0       1.0          NaN  ...                          0   \n",
       "1       1.0          NaN  ...                          0   \n",
       "2       1.0          NaN  ...                          0   \n",
       "3       NaN          NaN  ...                          0   \n",
       "4       1.0          NaN  ...                          0   \n",
       "\n",
       "  compl_mth6_nodm_spec___18  compl_mth6_nodm_spec___19  \\\n",
       "0                         0                          0   \n",
       "1                         0                          0   \n",
       "2                         0                          0   \n",
       "3                         0                          0   \n",
       "4                         0                          0   \n",
       "\n",
       "   compl_mth6_nodm_spec___20  compl_mth6_nodm_spec___89  \\\n",
       "0                          0                          0   \n",
       "1                          0                          0   \n",
       "2                          0                          0   \n",
       "3                          0                          0   \n",
       "4                          0                          0   \n",
       "\n",
       "   compl_mth6_nodm_spec___999  q1_exp_pain  q1_exp_function  mth6_satisf  \\\n",
       "0                           0          4.0              4.0          NaN   \n",
       "1                           0          3.0              4.0          2.0   \n",
       "2                           0          4.0              4.0          3.0   \n",
       "3                           0          NaN              NaN          3.0   \n",
       "4                           0          3.0              4.0          3.0   \n",
       "\n",
       "   mth6_success  \n",
       "0           NaN  \n",
       "1           3.0  \n",
       "2           4.0  \n",
       "3           4.0  \n",
       "4           4.0  \n",
       "\n",
       "[5 rows x 227 columns]"
      ]
     },
     "execution_count": 4,
     "metadata": {},
     "output_type": "execute_result"
    }
   ],
   "source": [
    "num_replace = {999: np.nan}\n",
    "\n",
    "df = df.replace(num_replace)\n",
    "\n",
    "df.head()"
   ]
  },
  {
   "cell_type": "markdown",
   "id": "bc83a1b3",
   "metadata": {
    "ExecuteTime": {
     "end_time": "2023-04-15T18:03:15.138316Z",
     "start_time": "2023-04-15T18:03:15.127749Z"
    }
   },
   "source": [
    "#### Удалим строки, где целевые оценки не входят в числовой диапозон, заданный в dictionary"
   ]
  },
  {
   "cell_type": "code",
   "execution_count": 5,
   "id": "2489028d",
   "metadata": {
    "ExecuteTime": {
     "end_time": "2023-04-18T14:25:26.869039Z",
     "start_time": "2023-04-18T14:25:26.641434Z"
    }
   },
   "outputs": [],
   "source": [
    "df = df.drop(df[df['q1_eq5d_vas'] < 0].index)\n",
    "df = df.drop(df[df['q1_eq5d_vas'] > 100].index)\n",
    "\n",
    "df = df.drop(df[df['q1_oxf_hs_total'] < 0].index)\n",
    "df = df.drop(df[df['q1_oxf_hs_total'] > 48].index)\n",
    "df = df.drop(df[df['mth6_oxf_hs_total'] < 0].index)\n",
    "df = df.drop(df[df['mth6_oxf_hs_total'] > 48].index)\n",
    "\n",
    "df = df.drop(df[df['q1_oxf_ks_total'] < 0].index)\n",
    "df = df.drop(df[df['q1_oxf_ks_total'] > 48].index)\n",
    "df = df.drop(df[df['mth6_oxf_ks_total'] < 0].index)\n",
    "df = df.drop(df[df['mth6_oxf_ks_total'] > 48].index)"
   ]
  },
  {
   "cell_type": "code",
   "execution_count": 6,
   "id": "124fb19d",
   "metadata": {
    "ExecuteTime": {
     "end_time": "2023-04-18T14:25:26.890321Z",
     "start_time": "2023-04-18T14:25:26.869039Z"
    }
   },
   "outputs": [
    {
     "data": {
      "text/plain": [
       "pers_age                        int64\n",
       "pers_sex                      float64\n",
       "sch_edu                       float64\n",
       "non_sch_edu                   float64\n",
       "bmi                           float64\n",
       "                               ...   \n",
       "compl_mth6_nodm_spec___999      int64\n",
       "q1_exp_pain                   float64\n",
       "q1_exp_function               float64\n",
       "mth6_satisf                   float64\n",
       "mth6_success                  float64\n",
       "Length: 227, dtype: object"
      ]
     },
     "execution_count": 6,
     "metadata": {},
     "output_type": "execute_result"
    }
   ],
   "source": [
    "df.dtypes"
   ]
  },
  {
   "cell_type": "code",
   "execution_count": 7,
   "id": "ba845dbe",
   "metadata": {
    "ExecuteTime": {
     "end_time": "2023-04-18T14:25:26.908210Z",
     "start_time": "2023-04-18T14:25:26.892585Z"
    }
   },
   "outputs": [
    {
     "data": {
      "text/plain": [
       "(7551, 227)"
      ]
     },
     "execution_count": 7,
     "metadata": {},
     "output_type": "execute_result"
    }
   ],
   "source": [
    "df.shape"
   ]
  },
  {
   "cell_type": "markdown",
   "id": "e25ea3cf",
   "metadata": {},
   "source": [
    "## Пропуски"
   ]
  },
  {
   "cell_type": "code",
   "execution_count": 8,
   "id": "aed9f04b",
   "metadata": {
    "ExecuteTime": {
     "end_time": "2023-04-18T14:25:26.981208Z",
     "start_time": "2023-04-18T14:25:26.911802Z"
    }
   },
   "outputs": [
    {
     "name": "stdout",
     "output_type": "stream",
     "text": [
      "pers_age 0\n",
      "pers_sex 1\n",
      "sch_edu 249\n",
      "non_sch_edu 444\n",
      "bmi 7\n",
      "proc 1\n",
      "joint 0\n",
      "side 4\n",
      "pjr_diag 316\n",
      "pjr_diag_oth 7467\n",
      "rjr_diag 7326\n",
      "rjr_diag_oth 7487\n",
      "tjr_any 201\n",
      "kr_prev 5306\n",
      "kr_prev_side 5996\n",
      "hr_prev 5345\n",
      "hr_prev_side 6688\n",
      "cc_lbp 294\n",
      "cc_ii_arth 317\n",
      "cc_hd 73\n",
      "cc_hd_meds 4922\n",
      "cc_hbp 169\n",
      "cc_hbp_meds 3340\n",
      "cc_diab 65\n",
      "cc_diab_meds 6091\n",
      "cc_sd 69\n",
      "cc_sd_meds 6069\n",
      "cc_lud 63\n",
      "cc_lud_meds 6433\n",
      "cc_rf 70\n",
      "cc_rf_meds 7163\n",
      "cc_livd 67\n",
      "cc_livd_meds 7397\n",
      "cc_nc 72\n",
      "cc_nc_meds 7186\n",
      "cc_dep 152\n",
      "cc_dep_meds 6231\n",
      "q1_eq5d_mobility 200\n",
      "q1_eq5d_mobility_tas 7474\n",
      "q1_eq5d_persol_care 198\n",
      "q1_eq5d_persol_care_tas 7474\n",
      "q1_eq5d_usual_activities 198\n",
      "q1_eq5d_usual_activities_tas 7474\n",
      "q1_eq5d_discomfort 197\n",
      "q1_eq5d_discomfort_tas 7474\n",
      "q1_eq5d_anxiety 214\n",
      "q1_eq5d_anxiety_tas 7474\n",
      "q1_eq5d_vas 190\n",
      "q1_oxf_hs_pain 5081\n",
      "q1_oxf_hs_washing 5081\n",
      "q1_oxf_hs_transport 5080\n",
      "q1_oxf_hs_dressing 5081\n",
      "q1_oxf_hs_shopping 5080\n",
      "q1_oxf_hs_walking 5080\n",
      "q1_oxf_hs_stairs 5080\n",
      "q1_oxf_hs_standing 5080\n",
      "q1_oxf_hs_limping 5080\n",
      "q1_oxf_hs_sudden_pain 5081\n",
      "q1_oxf_hs_work 5080\n",
      "q1_oxf_hs_night_pain 5080\n",
      "q1_oxf_hs_total 5081\n",
      "q1_bi_oxf_hs_pain 7522\n",
      "q1_bi_oxf_hs_washing 7522\n",
      "q1_bi_oxf_hs_transport 7522\n",
      "q1_bi_oxf_hs_dressing 7522\n",
      "q1_bi_oxf_hs_shopping 7522\n",
      "q1_bi_oxf_hs_walking 7522\n",
      "q1_bi_oxf_hs_stairs 7522\n",
      "q1_bi_oxf_hs_standing 7522\n",
      "q1_bi_oxf_hs_limping 7522\n",
      "q1_bi_oxf_hs_sudden_pain 7522\n",
      "q1_bi_oxf_hs_work 7522\n",
      "q1_bi_oxf_hs_night_pain 7522\n",
      "q1_bi_oxf_hs_total 7521\n",
      "q1_oxf_ks_pain 2553\n",
      "q1_oxf_ks_washing 2553\n",
      "q1_oxf_ks_transport 2553\n",
      "q1_oxf_ks_walking 2555\n",
      "q1_oxf_ks_standing 2553\n",
      "q1_oxf_ks_limping 2552\n",
      "q1_oxf_ks_kneeling 2552\n",
      "q1_oxf_ks_night_pain 2552\n",
      "q1_oxf_ks_work 2552\n",
      "q1_oxf_ks_conf 2553\n",
      "q1_oxf_ks_shopping 2552\n",
      "q1_oxf_ks_stairs 2552\n",
      "q1_oxf_ks_total 2555\n",
      "q1_bi_oxf_ks_pain 7284\n",
      "q1_bi_oxf_ks_washing 7284\n",
      "q1_bi_oxf_ks_transport 7285\n",
      "q1_bi_oxf_ks_walking 7285\n",
      "q1_bi_oxf_ks_standing 7284\n",
      "q1_bi_oxf_ks_limping 7284\n",
      "q1_bi_oxf_ks_kneeling 7284\n",
      "q1_bi_oxf_ks_night_pain 7284\n",
      "q1_bi_oxf_ks_work 7284\n",
      "q1_bi_oxf_ks_conf 7284\n",
      "q1_bi_oxf_ks_shopping 7284\n",
      "q1_bi_oxf_ks_stairs 7284\n",
      "q1_bi_oxf_ks_total 7280\n",
      "mth6_eq5d_mobility 36\n",
      "mth6_eq5d_persol_care 38\n",
      "mth6_eq5d_usual_act 40\n",
      "mth6_eq5d_discomfort 36\n",
      "mth6_eq5d_anxiety 46\n",
      "mth6_eq5d_vas 53\n",
      "mth6_oxf_hs_pain 5068\n",
      "mth6_oxf_hs_washing 5068\n",
      "mth6_oxf_hs_transport 5068\n",
      "mth6_oxf_hs_dressing 5068\n",
      "mth6_oxf_hs_shopping 5068\n",
      "mth6_oxf_hs_walking 5068\n",
      "mth6_oxf_hs_stairs 5069\n",
      "mth6_oxf_hs_standing 5069\n",
      "mth6_oxf_hs_limping 5069\n",
      "mth6_oxf_hs_sudden_pain 5069\n",
      "mth6_oxf_hs_work 5069\n",
      "mth6_oxf_hs_night_pain 5069\n",
      "mth6_oxf_hs_total 5069\n",
      "mth6_bi_oxf_hs_pain 7517\n",
      "mth6_bi_oxf_hs_washing 7517\n",
      "mth6_bi_oxf_hs_transport 7517\n",
      "mth6_bi_oxf_hs_dressing 7517\n",
      "mth6_bi_oxf_hs_shopping 7518\n",
      "mth6_bi_oxf_hs_walking 7518\n",
      "mth6_bi_oxf_hs_stairs 7518\n",
      "mth6_bi_oxf_hs_standing 7518\n",
      "mth6_bi_oxf_hs_limping 7518\n",
      "mth6_bi_oxf_hs_suddpain 7518\n",
      "mth6_bi_oxf_hs_work 7518\n",
      "mth6_bi_oxf_hs_night_pain 7518\n",
      "mth6_bi_oxf_hs_total 7518\n",
      "mth6_oxf_ks_pain 2495\n",
      "mth6_oxf_ks_washing 2495\n",
      "mth6_oxf_ks_transport 2495\n",
      "mth6_oxf_ks_walking 2496\n",
      "mth6_oxf_ks_standing 2496\n",
      "mth6_oxf_ks_limping 2496\n",
      "mth6_oxf_ks_kneeling 2496\n",
      "mth6_oxf_ks_night_pain 2495\n",
      "mth6_oxf_ks_work 2495\n",
      "mth6_oxf_ks_conf 2495\n",
      "mth6_oxf_ks_shopping 2495\n",
      "mth6_oxf_ks_stairs 2495\n",
      "mth6_oxf_ks_total 2497\n",
      "mth6_bi_oxf_ks_pain 7276\n",
      "mth6_bi_oxf_ks_washing 7276\n",
      "mth6_bi_oxf_ks_transport 7276\n",
      "mth6_bi_oxf_ks_walking 7276\n",
      "mth6_bi_oxf_ks_standing 7276\n",
      "mth6_bi_oxf_ks_limping 7276\n",
      "mth6_bi_oxf_ks_kneeling 7276\n",
      "mth6_bi_oxf_ks_night_pain 7276\n",
      "mth6_bi_oxf_ks_work 7276\n",
      "mth6_bi_oxf_ks_conf 7276\n",
      "mth6_bi_oxf_ks_shopping 7276\n",
      "mth6_bi_oxf_ks_stairs 7276\n",
      "mth6_bi_oxf_ks_total 7275\n",
      "los 13\n",
      "asa 990\n",
      "adm_hdu 39\n",
      "planned_adm_hdu 6934\n",
      "bld_transf 38\n",
      "transf_source 7231\n",
      "units_transf 4238\n",
      "adm_compl 73\n",
      "adm_compl_spec___1 0\n",
      "adm_compl_spec___2 0\n",
      "adm_compl_spec___3 0\n",
      "adm_compl_spec___4 0\n",
      "adm_compl_spec___5 0\n",
      "adm_compl_spec___6 0\n",
      "adm_compl_spec___7 0\n",
      "adm_compl_spec___8 0\n",
      "adm_compl_spec___9 0\n",
      "adm_compl_spec___10 0\n",
      "adm_compl_spec___11 0\n",
      "adm_compl_spec___12 0\n",
      "adm_compl_spec___13 0\n",
      "adm_compl_spec___14 0\n",
      "adm_compl_spec___15 0\n",
      "adm_compl_spec___16 0\n",
      "adm_compl_spec___17 0\n",
      "adm_compl_spec___18 0\n",
      "adm_compl_spec___19 0\n",
      "adm_compl_spec___20 0\n",
      "adm_compl_spec___21 0\n",
      "adm_compl_spec___22 0\n",
      "adm_compl_spec___23 0\n",
      "adm_compl_spec___24 0\n",
      "adm_compl_spec___25 0\n",
      "adm_compl_spec___79 0\n",
      "adm_compl_spec___89 0\n",
      "dc_dest 31\n",
      "readm_mth6 18\n",
      "readm_mth6_reas 7136\n",
      "readm_mth6_any 30\n",
      "readm_mth6_any_spec 6949\n",
      "q2_pt_reoperation 22\n",
      "q2_pt_reop_reason 7379\n",
      "compl_mth6_nodm 19\n",
      "compl_mth6_nodm_spec___1 0\n",
      "compl_mth6_nodm_spec___2 0\n",
      "compl_mth6_nodm_spec___3 0\n",
      "compl_mth6_nodm_spec___4 0\n",
      "compl_mth6_nodm_spec___5 0\n",
      "compl_mth6_nodm_spec___6 0\n",
      "compl_mth6_nodm_spec___7 0\n",
      "compl_mth6_nodm_spec___8 0\n",
      "compl_mth6_nodm_spec___9 0\n",
      "compl_mth6_nodm_spec___10 0\n",
      "compl_mth6_nodm_spec___11 0\n",
      "compl_mth6_nodm_spec___12 0\n",
      "compl_mth6_nodm_spec___13 0\n",
      "compl_mth6_nodm_spec___14 0\n",
      "compl_mth6_nodm_spec___15 0\n",
      "compl_mth6_nodm_spec___16 0\n",
      "compl_mth6_nodm_spec___17 0\n",
      "compl_mth6_nodm_spec___18 0\n",
      "compl_mth6_nodm_spec___19 0\n",
      "compl_mth6_nodm_spec___20 0\n",
      "compl_mth6_nodm_spec___89 0\n",
      "compl_mth6_nodm_spec___999 0\n",
      "q1_exp_pain 769\n",
      "q1_exp_function 781\n",
      "mth6_satisf 51\n",
      "mth6_success 48\n"
     ]
    }
   ],
   "source": [
    "for column in df:\n",
    "    print(column, df[column].isnull().sum())"
   ]
  },
  {
   "cell_type": "markdown",
   "id": "8895638f",
   "metadata": {},
   "source": [
    "## Столбцы демография"
   ]
  },
  {
   "cell_type": "code",
   "execution_count": 9,
   "id": "f8aa42b9",
   "metadata": {
    "ExecuteTime": {
     "end_time": "2023-04-18T14:25:27.005212Z",
     "start_time": "2023-04-18T14:25:26.981208Z"
    }
   },
   "outputs": [
    {
     "data": {
      "text/html": [
       "<div>\n",
       "<style scoped>\n",
       "    .dataframe tbody tr th:only-of-type {\n",
       "        vertical-align: middle;\n",
       "    }\n",
       "\n",
       "    .dataframe tbody tr th {\n",
       "        vertical-align: top;\n",
       "    }\n",
       "\n",
       "    .dataframe thead th {\n",
       "        text-align: right;\n",
       "    }\n",
       "</style>\n",
       "<table border=\"1\" class=\"dataframe\">\n",
       "  <thead>\n",
       "    <tr style=\"text-align: right;\">\n",
       "      <th></th>\n",
       "      <th>pers_age</th>\n",
       "      <th>pers_sex</th>\n",
       "      <th>sch_edu</th>\n",
       "      <th>non_sch_edu</th>\n",
       "      <th>bmi</th>\n",
       "    </tr>\n",
       "  </thead>\n",
       "  <tbody>\n",
       "    <tr>\n",
       "      <th>1</th>\n",
       "      <td>72</td>\n",
       "      <td>1.0</td>\n",
       "      <td>3.0</td>\n",
       "      <td>6.0</td>\n",
       "      <td>26.6</td>\n",
       "    </tr>\n",
       "    <tr>\n",
       "      <th>2</th>\n",
       "      <td>64</td>\n",
       "      <td>1.0</td>\n",
       "      <td>3.0</td>\n",
       "      <td>1.0</td>\n",
       "      <td>30.1</td>\n",
       "    </tr>\n",
       "    <tr>\n",
       "      <th>3</th>\n",
       "      <td>72</td>\n",
       "      <td>1.0</td>\n",
       "      <td>4.0</td>\n",
       "      <td>1.0</td>\n",
       "      <td>33.2</td>\n",
       "    </tr>\n",
       "    <tr>\n",
       "      <th>4</th>\n",
       "      <td>70</td>\n",
       "      <td>1.0</td>\n",
       "      <td>4.0</td>\n",
       "      <td>1.0</td>\n",
       "      <td>23.1</td>\n",
       "    </tr>\n",
       "    <tr>\n",
       "      <th>5</th>\n",
       "      <td>84</td>\n",
       "      <td>2.0</td>\n",
       "      <td>4.0</td>\n",
       "      <td>6.0</td>\n",
       "      <td>26.4</td>\n",
       "    </tr>\n",
       "  </tbody>\n",
       "</table>\n",
       "</div>"
      ],
      "text/plain": [
       "   pers_age  pers_sex  sch_edu  non_sch_edu   bmi\n",
       "1        72       1.0      3.0          6.0  26.6\n",
       "2        64       1.0      3.0          1.0  30.1\n",
       "3        72       1.0      4.0          1.0  33.2\n",
       "4        70       1.0      4.0          1.0  23.1\n",
       "5        84       2.0      4.0          6.0  26.4"
      ]
     },
     "execution_count": 9,
     "metadata": {},
     "output_type": "execute_result"
    }
   ],
   "source": [
    "df.iloc[0:5, 0:5]"
   ]
  },
  {
   "cell_type": "markdown",
   "id": "b816d710",
   "metadata": {},
   "source": [
    "<li>pers_age - возраст\n",
    "<li>pers_sex - гендер (1 - male, 2 - female)\n",
    "<li>sch_edu  - (1 - year 12, 2 - year 11, 3 - year 10, 4 - year 9, 5 - year 8 or below, 6 - no schooling)\n",
    "<li>non_sch_edu - высший уровень невшкольного образования (от 1 до 6)\n",
    "<li>bmi - индекс тела, расчитывающийся исходя из роста и массы тела человека"
   ]
  },
  {
   "cell_type": "code",
   "execution_count": 10,
   "id": "9d9125a4",
   "metadata": {
    "ExecuteTime": {
     "end_time": "2023-04-18T14:25:27.024871Z",
     "start_time": "2023-04-18T14:25:27.005212Z"
    }
   },
   "outputs": [],
   "source": [
    "df_demo = df.iloc[:, 0:5]"
   ]
  },
  {
   "cell_type": "markdown",
   "id": "fabfee4b",
   "metadata": {},
   "source": [
    "## Базовые медицинские характеристики"
   ]
  },
  {
   "cell_type": "code",
   "execution_count": 11,
   "id": "384bc758",
   "metadata": {
    "ExecuteTime": {
     "end_time": "2023-04-18T14:25:27.090243Z",
     "start_time": "2023-04-18T14:25:27.024871Z"
    }
   },
   "outputs": [
    {
     "data": {
      "text/html": [
       "<div>\n",
       "<style scoped>\n",
       "    .dataframe tbody tr th:only-of-type {\n",
       "        vertical-align: middle;\n",
       "    }\n",
       "\n",
       "    .dataframe tbody tr th {\n",
       "        vertical-align: top;\n",
       "    }\n",
       "\n",
       "    .dataframe thead th {\n",
       "        text-align: right;\n",
       "    }\n",
       "</style>\n",
       "<table border=\"1\" class=\"dataframe\">\n",
       "  <thead>\n",
       "    <tr style=\"text-align: right;\">\n",
       "      <th></th>\n",
       "      <th>joint</th>\n",
       "      <th>side</th>\n",
       "      <th>pjr_diag</th>\n",
       "      <th>pjr_diag_oth</th>\n",
       "      <th>rjr_diag</th>\n",
       "      <th>rjr_diag_oth</th>\n",
       "      <th>tjr_any</th>\n",
       "      <th>kr_prev</th>\n",
       "      <th>kr_prev_side</th>\n",
       "      <th>hr_prev</th>\n",
       "      <th>...</th>\n",
       "      <th>cc_lud</th>\n",
       "      <th>cc_lud_meds</th>\n",
       "      <th>cc_rf</th>\n",
       "      <th>cc_rf_meds</th>\n",
       "      <th>cc_livd</th>\n",
       "      <th>cc_livd_meds</th>\n",
       "      <th>cc_nc</th>\n",
       "      <th>cc_nc_meds</th>\n",
       "      <th>cc_dep</th>\n",
       "      <th>cc_dep_meds</th>\n",
       "    </tr>\n",
       "  </thead>\n",
       "  <tbody>\n",
       "    <tr>\n",
       "      <th>1</th>\n",
       "      <td>2</td>\n",
       "      <td>1.0</td>\n",
       "      <td>1.0</td>\n",
       "      <td>NaN</td>\n",
       "      <td>NaN</td>\n",
       "      <td>NaN</td>\n",
       "      <td>2.0</td>\n",
       "      <td>NaN</td>\n",
       "      <td>NaN</td>\n",
       "      <td>NaN</td>\n",
       "      <td>...</td>\n",
       "      <td>2.0</td>\n",
       "      <td>NaN</td>\n",
       "      <td>2.0</td>\n",
       "      <td>NaN</td>\n",
       "      <td>2.0</td>\n",
       "      <td>NaN</td>\n",
       "      <td>2.0</td>\n",
       "      <td>NaN</td>\n",
       "      <td>2.0</td>\n",
       "      <td>NaN</td>\n",
       "    </tr>\n",
       "    <tr>\n",
       "      <th>2</th>\n",
       "      <td>2</td>\n",
       "      <td>3.0</td>\n",
       "      <td>1.0</td>\n",
       "      <td>NaN</td>\n",
       "      <td>NaN</td>\n",
       "      <td>NaN</td>\n",
       "      <td>2.0</td>\n",
       "      <td>NaN</td>\n",
       "      <td>NaN</td>\n",
       "      <td>NaN</td>\n",
       "      <td>...</td>\n",
       "      <td>2.0</td>\n",
       "      <td>NaN</td>\n",
       "      <td>2.0</td>\n",
       "      <td>NaN</td>\n",
       "      <td>2.0</td>\n",
       "      <td>NaN</td>\n",
       "      <td>2.0</td>\n",
       "      <td>NaN</td>\n",
       "      <td>2.0</td>\n",
       "      <td>NaN</td>\n",
       "    </tr>\n",
       "    <tr>\n",
       "      <th>3</th>\n",
       "      <td>1</td>\n",
       "      <td>NaN</td>\n",
       "      <td>NaN</td>\n",
       "      <td>NaN</td>\n",
       "      <td>1.0</td>\n",
       "      <td>NaN</td>\n",
       "      <td>1.0</td>\n",
       "      <td>2.0</td>\n",
       "      <td>NaN</td>\n",
       "      <td>1.0</td>\n",
       "      <td>...</td>\n",
       "      <td>1.0</td>\n",
       "      <td>1.0</td>\n",
       "      <td>1.0</td>\n",
       "      <td>2.0</td>\n",
       "      <td>1.0</td>\n",
       "      <td>2.0</td>\n",
       "      <td>2.0</td>\n",
       "      <td>NaN</td>\n",
       "      <td>2.0</td>\n",
       "      <td>NaN</td>\n",
       "    </tr>\n",
       "    <tr>\n",
       "      <th>4</th>\n",
       "      <td>2</td>\n",
       "      <td>2.0</td>\n",
       "      <td>1.0</td>\n",
       "      <td>NaN</td>\n",
       "      <td>NaN</td>\n",
       "      <td>NaN</td>\n",
       "      <td>2.0</td>\n",
       "      <td>NaN</td>\n",
       "      <td>NaN</td>\n",
       "      <td>NaN</td>\n",
       "      <td>...</td>\n",
       "      <td>2.0</td>\n",
       "      <td>NaN</td>\n",
       "      <td>1.0</td>\n",
       "      <td>2.0</td>\n",
       "      <td>2.0</td>\n",
       "      <td>NaN</td>\n",
       "      <td>2.0</td>\n",
       "      <td>NaN</td>\n",
       "      <td>2.0</td>\n",
       "      <td>NaN</td>\n",
       "    </tr>\n",
       "    <tr>\n",
       "      <th>5</th>\n",
       "      <td>2</td>\n",
       "      <td>2.0</td>\n",
       "      <td>1.0</td>\n",
       "      <td>NaN</td>\n",
       "      <td>NaN</td>\n",
       "      <td>NaN</td>\n",
       "      <td>1.0</td>\n",
       "      <td>1.0</td>\n",
       "      <td>1.0</td>\n",
       "      <td>2.0</td>\n",
       "      <td>...</td>\n",
       "      <td>2.0</td>\n",
       "      <td>NaN</td>\n",
       "      <td>2.0</td>\n",
       "      <td>NaN</td>\n",
       "      <td>2.0</td>\n",
       "      <td>NaN</td>\n",
       "      <td>2.0</td>\n",
       "      <td>NaN</td>\n",
       "      <td>2.0</td>\n",
       "      <td>NaN</td>\n",
       "    </tr>\n",
       "    <tr>\n",
       "      <th>6</th>\n",
       "      <td>2</td>\n",
       "      <td>1.0</td>\n",
       "      <td>1.0</td>\n",
       "      <td>NaN</td>\n",
       "      <td>NaN</td>\n",
       "      <td>NaN</td>\n",
       "      <td>2.0</td>\n",
       "      <td>NaN</td>\n",
       "      <td>NaN</td>\n",
       "      <td>NaN</td>\n",
       "      <td>...</td>\n",
       "      <td>2.0</td>\n",
       "      <td>NaN</td>\n",
       "      <td>2.0</td>\n",
       "      <td>NaN</td>\n",
       "      <td>2.0</td>\n",
       "      <td>NaN</td>\n",
       "      <td>1.0</td>\n",
       "      <td>1.0</td>\n",
       "      <td>2.0</td>\n",
       "      <td>NaN</td>\n",
       "    </tr>\n",
       "    <tr>\n",
       "      <th>7</th>\n",
       "      <td>2</td>\n",
       "      <td>1.0</td>\n",
       "      <td>1.0</td>\n",
       "      <td>NaN</td>\n",
       "      <td>NaN</td>\n",
       "      <td>NaN</td>\n",
       "      <td>2.0</td>\n",
       "      <td>NaN</td>\n",
       "      <td>NaN</td>\n",
       "      <td>NaN</td>\n",
       "      <td>...</td>\n",
       "      <td>2.0</td>\n",
       "      <td>NaN</td>\n",
       "      <td>2.0</td>\n",
       "      <td>NaN</td>\n",
       "      <td>1.0</td>\n",
       "      <td>2.0</td>\n",
       "      <td>2.0</td>\n",
       "      <td>NaN</td>\n",
       "      <td>2.0</td>\n",
       "      <td>NaN</td>\n",
       "    </tr>\n",
       "    <tr>\n",
       "      <th>8</th>\n",
       "      <td>1</td>\n",
       "      <td>1.0</td>\n",
       "      <td>1.0</td>\n",
       "      <td>NaN</td>\n",
       "      <td>NaN</td>\n",
       "      <td>NaN</td>\n",
       "      <td>1.0</td>\n",
       "      <td>1.0</td>\n",
       "      <td>1.0</td>\n",
       "      <td>1.0</td>\n",
       "      <td>...</td>\n",
       "      <td>2.0</td>\n",
       "      <td>NaN</td>\n",
       "      <td>2.0</td>\n",
       "      <td>NaN</td>\n",
       "      <td>2.0</td>\n",
       "      <td>NaN</td>\n",
       "      <td>2.0</td>\n",
       "      <td>NaN</td>\n",
       "      <td>2.0</td>\n",
       "      <td>NaN</td>\n",
       "    </tr>\n",
       "    <tr>\n",
       "      <th>9</th>\n",
       "      <td>1</td>\n",
       "      <td>2.0</td>\n",
       "      <td>1.0</td>\n",
       "      <td>NaN</td>\n",
       "      <td>NaN</td>\n",
       "      <td>NaN</td>\n",
       "      <td>2.0</td>\n",
       "      <td>NaN</td>\n",
       "      <td>NaN</td>\n",
       "      <td>NaN</td>\n",
       "      <td>...</td>\n",
       "      <td>2.0</td>\n",
       "      <td>NaN</td>\n",
       "      <td>1.0</td>\n",
       "      <td>1.0</td>\n",
       "      <td>2.0</td>\n",
       "      <td>NaN</td>\n",
       "      <td>2.0</td>\n",
       "      <td>NaN</td>\n",
       "      <td>2.0</td>\n",
       "      <td>NaN</td>\n",
       "    </tr>\n",
       "    <tr>\n",
       "      <th>10</th>\n",
       "      <td>1</td>\n",
       "      <td>2.0</td>\n",
       "      <td>5.0</td>\n",
       "      <td>NaN</td>\n",
       "      <td>NaN</td>\n",
       "      <td>NaN</td>\n",
       "      <td>2.0</td>\n",
       "      <td>NaN</td>\n",
       "      <td>NaN</td>\n",
       "      <td>NaN</td>\n",
       "      <td>...</td>\n",
       "      <td>2.0</td>\n",
       "      <td>NaN</td>\n",
       "      <td>2.0</td>\n",
       "      <td>NaN</td>\n",
       "      <td>2.0</td>\n",
       "      <td>NaN</td>\n",
       "      <td>2.0</td>\n",
       "      <td>NaN</td>\n",
       "      <td>2.0</td>\n",
       "      <td>NaN</td>\n",
       "    </tr>\n",
       "  </tbody>\n",
       "</table>\n",
       "<p>10 rows × 31 columns</p>\n",
       "</div>"
      ],
      "text/plain": [
       "    joint  side  pjr_diag pjr_diag_oth  rjr_diag rjr_diag_oth  tjr_any  \\\n",
       "1       2   1.0       1.0          NaN       NaN          NaN      2.0   \n",
       "2       2   3.0       1.0          NaN       NaN          NaN      2.0   \n",
       "3       1   NaN       NaN          NaN       1.0          NaN      1.0   \n",
       "4       2   2.0       1.0          NaN       NaN          NaN      2.0   \n",
       "5       2   2.0       1.0          NaN       NaN          NaN      1.0   \n",
       "6       2   1.0       1.0          NaN       NaN          NaN      2.0   \n",
       "7       2   1.0       1.0          NaN       NaN          NaN      2.0   \n",
       "8       1   1.0       1.0          NaN       NaN          NaN      1.0   \n",
       "9       1   2.0       1.0          NaN       NaN          NaN      2.0   \n",
       "10      1   2.0       5.0          NaN       NaN          NaN      2.0   \n",
       "\n",
       "    kr_prev  kr_prev_side  hr_prev  ...  cc_lud  cc_lud_meds  cc_rf  \\\n",
       "1       NaN           NaN      NaN  ...     2.0          NaN    2.0   \n",
       "2       NaN           NaN      NaN  ...     2.0          NaN    2.0   \n",
       "3       2.0           NaN      1.0  ...     1.0          1.0    1.0   \n",
       "4       NaN           NaN      NaN  ...     2.0          NaN    1.0   \n",
       "5       1.0           1.0      2.0  ...     2.0          NaN    2.0   \n",
       "6       NaN           NaN      NaN  ...     2.0          NaN    2.0   \n",
       "7       NaN           NaN      NaN  ...     2.0          NaN    2.0   \n",
       "8       1.0           1.0      1.0  ...     2.0          NaN    2.0   \n",
       "9       NaN           NaN      NaN  ...     2.0          NaN    1.0   \n",
       "10      NaN           NaN      NaN  ...     2.0          NaN    2.0   \n",
       "\n",
       "    cc_rf_meds  cc_livd  cc_livd_meds  cc_nc  cc_nc_meds  cc_dep  cc_dep_meds  \n",
       "1          NaN      2.0           NaN    2.0         NaN     2.0          NaN  \n",
       "2          NaN      2.0           NaN    2.0         NaN     2.0          NaN  \n",
       "3          2.0      1.0           2.0    2.0         NaN     2.0          NaN  \n",
       "4          2.0      2.0           NaN    2.0         NaN     2.0          NaN  \n",
       "5          NaN      2.0           NaN    2.0         NaN     2.0          NaN  \n",
       "6          NaN      2.0           NaN    1.0         1.0     2.0          NaN  \n",
       "7          NaN      1.0           2.0    2.0         NaN     2.0          NaN  \n",
       "8          NaN      2.0           NaN    2.0         NaN     2.0          NaN  \n",
       "9          1.0      2.0           NaN    2.0         NaN     2.0          NaN  \n",
       "10         NaN      2.0           NaN    2.0         NaN     2.0          NaN  \n",
       "\n",
       "[10 rows x 31 columns]"
      ]
     },
     "execution_count": 11,
     "metadata": {},
     "output_type": "execute_result"
    }
   ],
   "source": [
    "df.iloc[0:10, 6:37]"
   ]
  },
  {
   "cell_type": "markdown",
   "id": "69db42e6",
   "metadata": {},
   "source": [
    "<li>proc - операция\n",
    "<li>joint - часть тела (1 - тазобедренный сустав, 2 - коленный)\n",
    "<li>side - сторона заменяемого сустава\n",
    "<li>pjr_diag - диагноз, определен только, если join 1 или 2 или 3 (в основном остеаортрит)\n",
    "<li>pjr_diag_oth - другой диагноз\n",
    "<li>tjr_any - проводилась ли другая операция по замене сустава\n",
    "<li>kr_prev - проводилась ли операция по замене коленного сустава\n",
    "<li>kr_prev_side - сторона заменяемого коленного сустава\n",
    "<li>hr - тоже самое с тазобедренным суставом\n",
    "<li>cc - медицинские характеристики "
   ]
  },
  {
   "cell_type": "code",
   "execution_count": 12,
   "id": "fe396017",
   "metadata": {
    "ExecuteTime": {
     "end_time": "2023-04-18T14:25:27.106216Z",
     "start_time": "2023-04-18T14:25:27.090243Z"
    }
   },
   "outputs": [],
   "source": [
    "df_base = df.iloc[:, 6:37]"
   ]
  },
  {
   "cell_type": "code",
   "execution_count": 13,
   "id": "d146cbe0",
   "metadata": {
    "ExecuteTime": {
     "end_time": "2023-04-18T14:25:27.124603Z",
     "start_time": "2023-04-18T14:25:27.106216Z"
    }
   },
   "outputs": [
    {
     "data": {
      "text/plain": [
       "(7551, 31)"
      ]
     },
     "execution_count": 13,
     "metadata": {},
     "output_type": "execute_result"
    }
   ],
   "source": [
    "df_base.shape"
   ]
  },
  {
   "cell_type": "code",
   "execution_count": 14,
   "id": "64c7e522",
   "metadata": {
    "ExecuteTime": {
     "end_time": "2023-04-18T14:25:27.148609Z",
     "start_time": "2023-04-18T14:25:27.124603Z"
    }
   },
   "outputs": [
    {
     "data": {
      "text/plain": [
       "joint              0\n",
       "side               4\n",
       "pjr_diag         316\n",
       "pjr_diag_oth    7467\n",
       "rjr_diag        7326\n",
       "rjr_diag_oth    7487\n",
       "tjr_any          201\n",
       "kr_prev         5306\n",
       "kr_prev_side    5996\n",
       "hr_prev         5345\n",
       "hr_prev_side    6688\n",
       "cc_lbp           294\n",
       "cc_ii_arth       317\n",
       "cc_hd             73\n",
       "cc_hd_meds      4922\n",
       "cc_hbp           169\n",
       "cc_hbp_meds     3340\n",
       "cc_diab           65\n",
       "cc_diab_meds    6091\n",
       "cc_sd             69\n",
       "cc_sd_meds      6069\n",
       "cc_lud            63\n",
       "cc_lud_meds     6433\n",
       "cc_rf             70\n",
       "cc_rf_meds      7163\n",
       "cc_livd           67\n",
       "cc_livd_meds    7397\n",
       "cc_nc             72\n",
       "cc_nc_meds      7186\n",
       "cc_dep           152\n",
       "cc_dep_meds     6231\n",
       "dtype: int64"
      ]
     },
     "execution_count": 14,
     "metadata": {},
     "output_type": "execute_result"
    }
   ],
   "source": [
    "df_base.isnull().sum()"
   ]
  },
  {
   "cell_type": "markdown",
   "id": "414ac270",
   "metadata": {},
   "source": [
    "#### Значения ячеек некоторых столбцов зависят от ячеек других признаков, но они в основном заполнены пропусками. Их решено удалить"
   ]
  },
  {
   "cell_type": "code",
   "execution_count": 15,
   "id": "62f8ed40",
   "metadata": {
    "ExecuteTime": {
     "end_time": "2023-04-18T14:25:27.164609Z",
     "start_time": "2023-04-18T14:25:27.148609Z"
    }
   },
   "outputs": [],
   "source": [
    "df_base = df_base.drop(columns = ['pjr_diag_oth', 'rjr_diag', 'rjr_diag_oth', 'cc_nc_meds', 'cc_livd_meds', 'cc_rf_meds'])"
   ]
  },
  {
   "cell_type": "code",
   "execution_count": 16,
   "id": "02599339",
   "metadata": {
    "ExecuteTime": {
     "end_time": "2023-04-18T14:25:27.188616Z",
     "start_time": "2023-04-18T14:25:27.164609Z"
    }
   },
   "outputs": [
    {
     "data": {
      "text/plain": [
       "joint              0\n",
       "side               4\n",
       "pjr_diag         316\n",
       "tjr_any          201\n",
       "kr_prev         5306\n",
       "kr_prev_side    5996\n",
       "hr_prev         5345\n",
       "hr_prev_side    6688\n",
       "cc_lbp           294\n",
       "cc_ii_arth       317\n",
       "cc_hd             73\n",
       "cc_hd_meds      4922\n",
       "cc_hbp           169\n",
       "cc_hbp_meds     3340\n",
       "cc_diab           65\n",
       "cc_diab_meds    6091\n",
       "cc_sd             69\n",
       "cc_sd_meds      6069\n",
       "cc_lud            63\n",
       "cc_lud_meds     6433\n",
       "cc_rf             70\n",
       "cc_livd           67\n",
       "cc_nc             72\n",
       "cc_dep           152\n",
       "cc_dep_meds     6231\n",
       "dtype: int64"
      ]
     },
     "execution_count": 16,
     "metadata": {},
     "output_type": "execute_result"
    }
   ],
   "source": [
    "df_base.isnull().sum()"
   ]
  },
  {
   "cell_type": "markdown",
   "id": "9e65ac0f",
   "metadata": {},
   "source": [
    "Заполним пропуски нулям"
   ]
  },
  {
   "cell_type": "code",
   "execution_count": 17,
   "id": "b8f4b40f",
   "metadata": {
    "ExecuteTime": {
     "end_time": "2023-04-18T14:25:27.215669Z",
     "start_time": "2023-04-18T14:25:27.188616Z"
    }
   },
   "outputs": [
    {
     "data": {
      "text/plain": [
       "joint           0\n",
       "side            0\n",
       "pjr_diag        0\n",
       "tjr_any         0\n",
       "kr_prev         0\n",
       "kr_prev_side    0\n",
       "hr_prev         0\n",
       "hr_prev_side    0\n",
       "cc_lbp          0\n",
       "cc_ii_arth      0\n",
       "cc_hd           0\n",
       "cc_hd_meds      0\n",
       "cc_hbp          0\n",
       "cc_hbp_meds     0\n",
       "cc_diab         0\n",
       "cc_diab_meds    0\n",
       "cc_sd           0\n",
       "cc_sd_meds      0\n",
       "cc_lud          0\n",
       "cc_lud_meds     0\n",
       "cc_rf           0\n",
       "cc_livd         0\n",
       "cc_nc           0\n",
       "cc_dep          0\n",
       "cc_dep_meds     0\n",
       "dtype: int64"
      ]
     },
     "execution_count": 17,
     "metadata": {},
     "output_type": "execute_result"
    }
   ],
   "source": [
    "df_base = df_base.fillna(0)\n",
    "df_base.isnull().sum()"
   ]
  },
  {
   "cell_type": "markdown",
   "id": "a0606c1a",
   "metadata": {},
   "source": [
    "#### Объединим столбцы демографии с базовыми медицинскими характеристиками"
   ]
  },
  {
   "cell_type": "code",
   "execution_count": 18,
   "id": "1cf3da77",
   "metadata": {
    "ExecuteTime": {
     "end_time": "2023-04-18T14:25:27.514948Z",
     "start_time": "2023-04-18T14:25:27.492253Z"
    }
   },
   "outputs": [
    {
     "data": {
      "text/plain": [
       "(7551, 30)"
      ]
     },
     "execution_count": 18,
     "metadata": {},
     "output_type": "execute_result"
    }
   ],
   "source": [
    "df_base = df_demo.join(df_base)\n",
    "df_base.shape"
   ]
  },
  {
   "cell_type": "markdown",
   "id": "3dcc8c0c",
   "metadata": {},
   "source": [
    "# Proms - стандартизированные, проверенные опросы"
   ]
  },
  {
   "cell_type": "markdown",
   "id": "4a72a152",
   "metadata": {},
   "source": [
    "## EQ-5D - универсальный опрос"
   ]
  },
  {
   "cell_type": "code",
   "execution_count": 19,
   "id": "401ecd00",
   "metadata": {
    "ExecuteTime": {
     "end_time": "2023-04-18T14:25:28.282093Z",
     "start_time": "2023-04-18T14:25:28.247702Z"
    }
   },
   "outputs": [
    {
     "data": {
      "text/html": [
       "<div>\n",
       "<style scoped>\n",
       "    .dataframe tbody tr th:only-of-type {\n",
       "        vertical-align: middle;\n",
       "    }\n",
       "\n",
       "    .dataframe tbody tr th {\n",
       "        vertical-align: top;\n",
       "    }\n",
       "\n",
       "    .dataframe thead th {\n",
       "        text-align: right;\n",
       "    }\n",
       "</style>\n",
       "<table border=\"1\" class=\"dataframe\">\n",
       "  <thead>\n",
       "    <tr style=\"text-align: right;\">\n",
       "      <th></th>\n",
       "      <th>q1_eq5d_mobility_tas</th>\n",
       "      <th>q1_eq5d_persol_care</th>\n",
       "      <th>q1_eq5d_persol_care_tas</th>\n",
       "      <th>q1_eq5d_usual_activities</th>\n",
       "      <th>q1_eq5d_usual_activities_tas</th>\n",
       "      <th>q1_eq5d_discomfort</th>\n",
       "      <th>q1_eq5d_discomfort_tas</th>\n",
       "      <th>q1_eq5d_anxiety</th>\n",
       "      <th>q1_eq5d_anxiety_tas</th>\n",
       "      <th>q1_eq5d_vas</th>\n",
       "    </tr>\n",
       "  </thead>\n",
       "  <tbody>\n",
       "    <tr>\n",
       "      <th>1</th>\n",
       "      <td>6.0</td>\n",
       "      <td>NaN</td>\n",
       "      <td>6.0</td>\n",
       "      <td>NaN</td>\n",
       "      <td>8.0</td>\n",
       "      <td>NaN</td>\n",
       "      <td>7.0</td>\n",
       "      <td>NaN</td>\n",
       "      <td>6.0</td>\n",
       "      <td>90.0</td>\n",
       "    </tr>\n",
       "    <tr>\n",
       "      <th>2</th>\n",
       "      <td>7.0</td>\n",
       "      <td>NaN</td>\n",
       "      <td>6.0</td>\n",
       "      <td>NaN</td>\n",
       "      <td>8.0</td>\n",
       "      <td>NaN</td>\n",
       "      <td>8.0</td>\n",
       "      <td>NaN</td>\n",
       "      <td>6.0</td>\n",
       "      <td>75.0</td>\n",
       "    </tr>\n",
       "    <tr>\n",
       "      <th>3</th>\n",
       "      <td>7.0</td>\n",
       "      <td>NaN</td>\n",
       "      <td>7.0</td>\n",
       "      <td>NaN</td>\n",
       "      <td>6.0</td>\n",
       "      <td>NaN</td>\n",
       "      <td>7.0</td>\n",
       "      <td>NaN</td>\n",
       "      <td>7.0</td>\n",
       "      <td>60.0</td>\n",
       "    </tr>\n",
       "    <tr>\n",
       "      <th>4</th>\n",
       "      <td>7.0</td>\n",
       "      <td>NaN</td>\n",
       "      <td>6.0</td>\n",
       "      <td>NaN</td>\n",
       "      <td>6.0</td>\n",
       "      <td>NaN</td>\n",
       "      <td>7.0</td>\n",
       "      <td>NaN</td>\n",
       "      <td>7.0</td>\n",
       "      <td>70.0</td>\n",
       "    </tr>\n",
       "    <tr>\n",
       "      <th>5</th>\n",
       "      <td>7.0</td>\n",
       "      <td>NaN</td>\n",
       "      <td>6.0</td>\n",
       "      <td>NaN</td>\n",
       "      <td>6.0</td>\n",
       "      <td>NaN</td>\n",
       "      <td>8.0</td>\n",
       "      <td>NaN</td>\n",
       "      <td>6.0</td>\n",
       "      <td>80.0</td>\n",
       "    </tr>\n",
       "  </tbody>\n",
       "</table>\n",
       "</div>"
      ],
      "text/plain": [
       "   q1_eq5d_mobility_tas  q1_eq5d_persol_care  q1_eq5d_persol_care_tas  \\\n",
       "1                   6.0                  NaN                      6.0   \n",
       "2                   7.0                  NaN                      6.0   \n",
       "3                   7.0                  NaN                      7.0   \n",
       "4                   7.0                  NaN                      6.0   \n",
       "5                   7.0                  NaN                      6.0   \n",
       "\n",
       "   q1_eq5d_usual_activities  q1_eq5d_usual_activities_tas  q1_eq5d_discomfort  \\\n",
       "1                       NaN                           8.0                 NaN   \n",
       "2                       NaN                           8.0                 NaN   \n",
       "3                       NaN                           6.0                 NaN   \n",
       "4                       NaN                           6.0                 NaN   \n",
       "5                       NaN                           6.0                 NaN   \n",
       "\n",
       "   q1_eq5d_discomfort_tas  q1_eq5d_anxiety  q1_eq5d_anxiety_tas  q1_eq5d_vas  \n",
       "1                     7.0              NaN                  6.0         90.0  \n",
       "2                     8.0              NaN                  6.0         75.0  \n",
       "3                     7.0              NaN                  7.0         60.0  \n",
       "4                     7.0              NaN                  7.0         70.0  \n",
       "5                     8.0              NaN                  6.0         80.0  "
      ]
     },
     "execution_count": 19,
     "metadata": {},
     "output_type": "execute_result"
    }
   ],
   "source": [
    "df.iloc[0:5, 38:48]"
   ]
  },
  {
   "cell_type": "markdown",
   "id": "c588bd27",
   "metadata": {},
   "source": [
    "#### _tas - в справочнике указано, что значения указаны для hosp = '9' или hosp = '12', но в данных отсутствует (как и в справочнике) упоминание о нем, поэтому столбцы c _tas решено удалить"
   ]
  },
  {
   "cell_type": "code",
   "execution_count": 20,
   "id": "ca9f5b70",
   "metadata": {
    "ExecuteTime": {
     "end_time": "2023-04-18T14:25:28.620579Z",
     "start_time": "2023-04-18T14:25:28.603935Z"
    }
   },
   "outputs": [
    {
     "data": {
      "text/plain": [
       "q1_eq5d_mobility_tas            7474\n",
       "q1_eq5d_persol_care              198\n",
       "q1_eq5d_persol_care_tas         7474\n",
       "q1_eq5d_usual_activities         198\n",
       "q1_eq5d_usual_activities_tas    7474\n",
       "q1_eq5d_discomfort               197\n",
       "q1_eq5d_discomfort_tas          7474\n",
       "q1_eq5d_anxiety                  214\n",
       "q1_eq5d_anxiety_tas             7474\n",
       "q1_eq5d_vas                      190\n",
       "dtype: int64"
      ]
     },
     "execution_count": 20,
     "metadata": {},
     "output_type": "execute_result"
    }
   ],
   "source": [
    "df.iloc[:, 38:48].isnull().sum()"
   ]
  },
  {
   "cell_type": "code",
   "execution_count": 21,
   "id": "14cd5dfd",
   "metadata": {
    "ExecuteTime": {
     "end_time": "2023-04-18T14:25:28.828092Z",
     "start_time": "2023-04-18T14:25:28.786970Z"
    }
   },
   "outputs": [
    {
     "data": {
      "text/plain": [
       "(7551, 35)"
      ]
     },
     "execution_count": 21,
     "metadata": {},
     "output_type": "execute_result"
    }
   ],
   "source": [
    "df_eq5d = df.drop(columns = ['q1_eq5d_mobility_tas', 'q1_eq5d_persol_care_tas', 'q1_eq5d_usual_activities_tas', 'q1_eq5d_discomfort_tas', 'q1_eq5d_anxiety_tas'])\n",
    "df_eq5d = df_eq5d.iloc[:, 38:43]\n",
    "\n",
    "df_base = df_base.join(df_eq5d)\n",
    "df_base.shape"
   ]
  },
  {
   "cell_type": "markdown",
   "id": "a26f5424",
   "metadata": {},
   "source": [
    "## OHS - оксфордская шкала оценки результата для тазобедренного сустава"
   ]
  },
  {
   "cell_type": "code",
   "execution_count": 22,
   "id": "363ce642",
   "metadata": {
    "ExecuteTime": {
     "end_time": "2023-04-18T14:25:29.178779Z",
     "start_time": "2023-04-18T14:25:29.138984Z"
    }
   },
   "outputs": [
    {
     "data": {
      "text/html": [
       "<div>\n",
       "<style scoped>\n",
       "    .dataframe tbody tr th:only-of-type {\n",
       "        vertical-align: middle;\n",
       "    }\n",
       "\n",
       "    .dataframe tbody tr th {\n",
       "        vertical-align: top;\n",
       "    }\n",
       "\n",
       "    .dataframe thead th {\n",
       "        text-align: right;\n",
       "    }\n",
       "</style>\n",
       "<table border=\"1\" class=\"dataframe\">\n",
       "  <thead>\n",
       "    <tr style=\"text-align: right;\">\n",
       "      <th></th>\n",
       "      <th>q1_oxf_hs_washing</th>\n",
       "      <th>q1_oxf_hs_transport</th>\n",
       "      <th>q1_oxf_hs_dressing</th>\n",
       "      <th>q1_oxf_hs_shopping</th>\n",
       "      <th>q1_oxf_hs_walking</th>\n",
       "      <th>q1_oxf_hs_stairs</th>\n",
       "      <th>q1_oxf_hs_standing</th>\n",
       "      <th>q1_oxf_hs_limping</th>\n",
       "      <th>q1_oxf_hs_sudden_pain</th>\n",
       "      <th>q1_oxf_hs_work</th>\n",
       "      <th>q1_oxf_hs_night_pain</th>\n",
       "      <th>q1_oxf_hs_total</th>\n",
       "    </tr>\n",
       "  </thead>\n",
       "  <tbody>\n",
       "    <tr>\n",
       "      <th>1</th>\n",
       "      <td>NaN</td>\n",
       "      <td>NaN</td>\n",
       "      <td>NaN</td>\n",
       "      <td>NaN</td>\n",
       "      <td>NaN</td>\n",
       "      <td>NaN</td>\n",
       "      <td>NaN</td>\n",
       "      <td>NaN</td>\n",
       "      <td>NaN</td>\n",
       "      <td>NaN</td>\n",
       "      <td>NaN</td>\n",
       "      <td>NaN</td>\n",
       "    </tr>\n",
       "    <tr>\n",
       "      <th>2</th>\n",
       "      <td>NaN</td>\n",
       "      <td>NaN</td>\n",
       "      <td>NaN</td>\n",
       "      <td>NaN</td>\n",
       "      <td>NaN</td>\n",
       "      <td>NaN</td>\n",
       "      <td>NaN</td>\n",
       "      <td>NaN</td>\n",
       "      <td>NaN</td>\n",
       "      <td>NaN</td>\n",
       "      <td>NaN</td>\n",
       "      <td>NaN</td>\n",
       "    </tr>\n",
       "    <tr>\n",
       "      <th>3</th>\n",
       "      <td>3.0</td>\n",
       "      <td>2.0</td>\n",
       "      <td>3.0</td>\n",
       "      <td>2.0</td>\n",
       "      <td>3.0</td>\n",
       "      <td>2.0</td>\n",
       "      <td>3.0</td>\n",
       "      <td>1.0</td>\n",
       "      <td>1.0</td>\n",
       "      <td>2.0</td>\n",
       "      <td>2.0</td>\n",
       "      <td>25.0</td>\n",
       "    </tr>\n",
       "    <tr>\n",
       "      <th>4</th>\n",
       "      <td>NaN</td>\n",
       "      <td>NaN</td>\n",
       "      <td>NaN</td>\n",
       "      <td>NaN</td>\n",
       "      <td>NaN</td>\n",
       "      <td>NaN</td>\n",
       "      <td>NaN</td>\n",
       "      <td>NaN</td>\n",
       "      <td>NaN</td>\n",
       "      <td>NaN</td>\n",
       "      <td>NaN</td>\n",
       "      <td>NaN</td>\n",
       "    </tr>\n",
       "    <tr>\n",
       "      <th>5</th>\n",
       "      <td>NaN</td>\n",
       "      <td>NaN</td>\n",
       "      <td>NaN</td>\n",
       "      <td>NaN</td>\n",
       "      <td>NaN</td>\n",
       "      <td>NaN</td>\n",
       "      <td>NaN</td>\n",
       "      <td>NaN</td>\n",
       "      <td>NaN</td>\n",
       "      <td>NaN</td>\n",
       "      <td>NaN</td>\n",
       "      <td>NaN</td>\n",
       "    </tr>\n",
       "  </tbody>\n",
       "</table>\n",
       "</div>"
      ],
      "text/plain": [
       "   q1_oxf_hs_washing  q1_oxf_hs_transport  q1_oxf_hs_dressing  \\\n",
       "1                NaN                  NaN                 NaN   \n",
       "2                NaN                  NaN                 NaN   \n",
       "3                3.0                  2.0                 3.0   \n",
       "4                NaN                  NaN                 NaN   \n",
       "5                NaN                  NaN                 NaN   \n",
       "\n",
       "   q1_oxf_hs_shopping  q1_oxf_hs_walking  q1_oxf_hs_stairs  \\\n",
       "1                 NaN                NaN               NaN   \n",
       "2                 NaN                NaN               NaN   \n",
       "3                 2.0                3.0               2.0   \n",
       "4                 NaN                NaN               NaN   \n",
       "5                 NaN                NaN               NaN   \n",
       "\n",
       "   q1_oxf_hs_standing  q1_oxf_hs_limping  q1_oxf_hs_sudden_pain  \\\n",
       "1                 NaN                NaN                    NaN   \n",
       "2                 NaN                NaN                    NaN   \n",
       "3                 3.0                1.0                    1.0   \n",
       "4                 NaN                NaN                    NaN   \n",
       "5                 NaN                NaN                    NaN   \n",
       "\n",
       "   q1_oxf_hs_work  q1_oxf_hs_night_pain  q1_oxf_hs_total  \n",
       "1             NaN                   NaN              NaN  \n",
       "2             NaN                   NaN              NaN  \n",
       "3             2.0                   2.0             25.0  \n",
       "4             NaN                   NaN              NaN  \n",
       "5             NaN                   NaN              NaN  "
      ]
     },
     "execution_count": 22,
     "metadata": {},
     "output_type": "execute_result"
    }
   ],
   "source": [
    "df.iloc[0:5, 49:61]"
   ]
  },
  {
   "cell_type": "code",
   "execution_count": 23,
   "id": "d6d91071",
   "metadata": {
    "ExecuteTime": {
     "end_time": "2023-04-18T14:25:29.367912Z",
     "start_time": "2023-04-18T14:25:29.336128Z"
    }
   },
   "outputs": [],
   "source": [
    "df_ohs = df_base.join(df.iloc[:, 49:60])"
   ]
  },
  {
   "cell_type": "code",
   "execution_count": 24,
   "id": "e3718b3a",
   "metadata": {
    "ExecuteTime": {
     "end_time": "2023-04-18T14:25:29.534349Z",
     "start_time": "2023-04-18T14:25:29.518343Z"
    }
   },
   "outputs": [],
   "source": [
    "df_ohs['mcid'] = df['mth6_oxf_hs_total'] - df['q1_oxf_hs_total']\n",
    "\n",
    "df_ohs.loc[(df_ohs.mcid < 17), 'mcid'] = 7\n",
    "# df_ohs.loc[(df_ohs.mcid >= 21.99), 'mcid'] = 8\n",
    "df_ohs.loc[(df_ohs.mcid >= 17), 'mcid'] = 8"
   ]
  },
  {
   "cell_type": "code",
   "execution_count": 25,
   "id": "63f6abd3",
   "metadata": {
    "ExecuteTime": {
     "end_time": "2023-04-18T14:25:29.717530Z",
     "start_time": "2023-04-18T14:25:29.702296Z"
    }
   },
   "outputs": [
    {
     "data": {
      "text/plain": [
       "8.0    2066\n",
       "7.0     401\n",
       "Name: mcid, dtype: int64"
      ]
     },
     "execution_count": 25,
     "metadata": {},
     "output_type": "execute_result"
    }
   ],
   "source": [
    "df_ohs['mcid'].value_counts()"
   ]
  },
  {
   "cell_type": "markdown",
   "id": "b37c229e",
   "metadata": {},
   "source": [
    "#### dropna() в этом случае нужен для того, чтобы отсеить людей, которые не отвечали на анкету OHS"
   ]
  },
  {
   "cell_type": "code",
   "execution_count": 26,
   "id": "22e3ccb4",
   "metadata": {
    "ExecuteTime": {
     "end_time": "2023-04-18T14:25:30.126616Z",
     "start_time": "2023-04-18T14:25:30.085140Z"
    }
   },
   "outputs": [
    {
     "data": {
      "text/plain": [
       "(2203, 47)"
      ]
     },
     "execution_count": 26,
     "metadata": {},
     "output_type": "execute_result"
    }
   ],
   "source": [
    "df_ohs = df_ohs.dropna()\n",
    "df_ohs.shape"
   ]
  },
  {
   "cell_type": "code",
   "execution_count": 27,
   "id": "8de96bec",
   "metadata": {
    "ExecuteTime": {
     "end_time": "2023-04-18T14:25:30.448906Z",
     "start_time": "2023-04-18T14:25:30.433668Z"
    }
   },
   "outputs": [
    {
     "data": {
      "text/plain": [
       "8.0    1854\n",
       "7.0     349\n",
       "Name: mcid, dtype: int64"
      ]
     },
     "execution_count": 27,
     "metadata": {},
     "output_type": "execute_result"
    }
   ],
   "source": [
    "df_ohs['mcid'].value_counts()"
   ]
  },
  {
   "cell_type": "code",
   "execution_count": 28,
   "id": "5e78a31b",
   "metadata": {
    "ExecuteTime": {
     "end_time": "2023-04-18T14:25:30.631755Z",
     "start_time": "2023-04-18T14:25:30.616214Z"
    }
   },
   "outputs": [],
   "source": [
    "df_ohs = df_ohs.drop(columns = 'joint')"
   ]
  },
  {
   "cell_type": "code",
   "execution_count": 29,
   "id": "f5aacd07",
   "metadata": {
    "ExecuteTime": {
     "end_time": "2023-04-18T14:25:30.856137Z",
     "start_time": "2023-04-18T14:25:30.832173Z"
    }
   },
   "outputs": [],
   "source": [
    "num_replace = {'mcid': {7: 0, 8: 1}}\n",
    "df_ohs = df_ohs.replace(num_replace)"
   ]
  },
  {
   "cell_type": "code",
   "execution_count": 30,
   "id": "42ec284d",
   "metadata": {
    "ExecuteTime": {
     "end_time": "2023-04-18T14:25:31.071980Z",
     "start_time": "2023-04-18T14:25:31.048112Z"
    }
   },
   "outputs": [
    {
     "data": {
      "text/plain": [
       "1.0    1854\n",
       "0.0     349\n",
       "Name: mcid, dtype: int64"
      ]
     },
     "execution_count": 30,
     "metadata": {},
     "output_type": "execute_result"
    }
   ],
   "source": [
    "df_ohs['mcid'].value_counts()"
   ]
  },
  {
   "cell_type": "markdown",
   "id": "f745a18b",
   "metadata": {},
   "source": [
    "### OHS для левой стороны"
   ]
  },
  {
   "cell_type": "code",
   "execution_count": 31,
   "id": "29fefd44",
   "metadata": {
    "ExecuteTime": {
     "end_time": "2023-04-18T14:25:32.243781Z",
     "start_time": "2023-04-18T14:25:32.210317Z"
    }
   },
   "outputs": [
    {
     "data": {
      "text/html": [
       "<div>\n",
       "<style scoped>\n",
       "    .dataframe tbody tr th:only-of-type {\n",
       "        vertical-align: middle;\n",
       "    }\n",
       "\n",
       "    .dataframe tbody tr th {\n",
       "        vertical-align: top;\n",
       "    }\n",
       "\n",
       "    .dataframe thead th {\n",
       "        text-align: right;\n",
       "    }\n",
       "</style>\n",
       "<table border=\"1\" class=\"dataframe\">\n",
       "  <thead>\n",
       "    <tr style=\"text-align: right;\">\n",
       "      <th></th>\n",
       "      <th>q1_bi_oxf_hs_washing</th>\n",
       "      <th>q1_bi_oxf_hs_transport</th>\n",
       "      <th>q1_bi_oxf_hs_dressing</th>\n",
       "      <th>q1_bi_oxf_hs_shopping</th>\n",
       "      <th>q1_bi_oxf_hs_walking</th>\n",
       "      <th>q1_bi_oxf_hs_stairs</th>\n",
       "      <th>q1_bi_oxf_hs_standing</th>\n",
       "      <th>q1_bi_oxf_hs_limping</th>\n",
       "      <th>q1_bi_oxf_hs_sudden_pain</th>\n",
       "      <th>q1_bi_oxf_hs_work</th>\n",
       "      <th>q1_bi_oxf_hs_night_pain</th>\n",
       "      <th>q1_bi_oxf_hs_total</th>\n",
       "    </tr>\n",
       "  </thead>\n",
       "  <tbody>\n",
       "    <tr>\n",
       "      <th>1</th>\n",
       "      <td>NaN</td>\n",
       "      <td>NaN</td>\n",
       "      <td>NaN</td>\n",
       "      <td>NaN</td>\n",
       "      <td>NaN</td>\n",
       "      <td>NaN</td>\n",
       "      <td>NaN</td>\n",
       "      <td>NaN</td>\n",
       "      <td>NaN</td>\n",
       "      <td>NaN</td>\n",
       "      <td>NaN</td>\n",
       "      <td>NaN</td>\n",
       "    </tr>\n",
       "    <tr>\n",
       "      <th>2</th>\n",
       "      <td>NaN</td>\n",
       "      <td>NaN</td>\n",
       "      <td>NaN</td>\n",
       "      <td>NaN</td>\n",
       "      <td>NaN</td>\n",
       "      <td>NaN</td>\n",
       "      <td>NaN</td>\n",
       "      <td>NaN</td>\n",
       "      <td>NaN</td>\n",
       "      <td>NaN</td>\n",
       "      <td>NaN</td>\n",
       "      <td>NaN</td>\n",
       "    </tr>\n",
       "    <tr>\n",
       "      <th>3</th>\n",
       "      <td>NaN</td>\n",
       "      <td>NaN</td>\n",
       "      <td>NaN</td>\n",
       "      <td>NaN</td>\n",
       "      <td>NaN</td>\n",
       "      <td>NaN</td>\n",
       "      <td>NaN</td>\n",
       "      <td>NaN</td>\n",
       "      <td>NaN</td>\n",
       "      <td>NaN</td>\n",
       "      <td>NaN</td>\n",
       "      <td>NaN</td>\n",
       "    </tr>\n",
       "    <tr>\n",
       "      <th>4</th>\n",
       "      <td>NaN</td>\n",
       "      <td>NaN</td>\n",
       "      <td>NaN</td>\n",
       "      <td>NaN</td>\n",
       "      <td>NaN</td>\n",
       "      <td>NaN</td>\n",
       "      <td>NaN</td>\n",
       "      <td>NaN</td>\n",
       "      <td>NaN</td>\n",
       "      <td>NaN</td>\n",
       "      <td>NaN</td>\n",
       "      <td>NaN</td>\n",
       "    </tr>\n",
       "    <tr>\n",
       "      <th>5</th>\n",
       "      <td>NaN</td>\n",
       "      <td>NaN</td>\n",
       "      <td>NaN</td>\n",
       "      <td>NaN</td>\n",
       "      <td>NaN</td>\n",
       "      <td>NaN</td>\n",
       "      <td>NaN</td>\n",
       "      <td>NaN</td>\n",
       "      <td>NaN</td>\n",
       "      <td>NaN</td>\n",
       "      <td>NaN</td>\n",
       "      <td>NaN</td>\n",
       "    </tr>\n",
       "  </tbody>\n",
       "</table>\n",
       "</div>"
      ],
      "text/plain": [
       "   q1_bi_oxf_hs_washing  q1_bi_oxf_hs_transport  q1_bi_oxf_hs_dressing  \\\n",
       "1                   NaN                     NaN                    NaN   \n",
       "2                   NaN                     NaN                    NaN   \n",
       "3                   NaN                     NaN                    NaN   \n",
       "4                   NaN                     NaN                    NaN   \n",
       "5                   NaN                     NaN                    NaN   \n",
       "\n",
       "   q1_bi_oxf_hs_shopping  q1_bi_oxf_hs_walking  q1_bi_oxf_hs_stairs  \\\n",
       "1                    NaN                   NaN                  NaN   \n",
       "2                    NaN                   NaN                  NaN   \n",
       "3                    NaN                   NaN                  NaN   \n",
       "4                    NaN                   NaN                  NaN   \n",
       "5                    NaN                   NaN                  NaN   \n",
       "\n",
       "   q1_bi_oxf_hs_standing  q1_bi_oxf_hs_limping  q1_bi_oxf_hs_sudden_pain  \\\n",
       "1                    NaN                   NaN                       NaN   \n",
       "2                    NaN                   NaN                       NaN   \n",
       "3                    NaN                   NaN                       NaN   \n",
       "4                    NaN                   NaN                       NaN   \n",
       "5                    NaN                   NaN                       NaN   \n",
       "\n",
       "   q1_bi_oxf_hs_work  q1_bi_oxf_hs_night_pain  q1_bi_oxf_hs_total  \n",
       "1                NaN                      NaN                 NaN  \n",
       "2                NaN                      NaN                 NaN  \n",
       "3                NaN                      NaN                 NaN  \n",
       "4                NaN                      NaN                 NaN  \n",
       "5                NaN                      NaN                 NaN  "
      ]
     },
     "execution_count": 31,
     "metadata": {},
     "output_type": "execute_result"
    }
   ],
   "source": [
    "df.iloc[0:5, 62:74]"
   ]
  },
  {
   "cell_type": "code",
   "execution_count": 32,
   "id": "ae2aa1bb",
   "metadata": {
    "ExecuteTime": {
     "end_time": "2023-04-18T14:25:32.427469Z",
     "start_time": "2023-04-18T14:25:32.395158Z"
    }
   },
   "outputs": [
    {
     "data": {
      "text/plain": [
       "(7551, 47)"
      ]
     },
     "execution_count": 32,
     "metadata": {},
     "output_type": "execute_result"
    }
   ],
   "source": [
    "df_bi_ohs = df_base.join(df.iloc[:, 62:74])\n",
    "df_bi_ohs.shape"
   ]
  },
  {
   "cell_type": "code",
   "execution_count": 33,
   "id": "00cb72e7",
   "metadata": {
    "ExecuteTime": {
     "end_time": "2023-04-18T14:25:32.958259Z",
     "start_time": "2023-04-18T14:25:32.927027Z"
    }
   },
   "outputs": [
    {
     "data": {
      "text/plain": [
       "(27, 47)"
      ]
     },
     "execution_count": 33,
     "metadata": {},
     "output_type": "execute_result"
    }
   ],
   "source": [
    "df_bi_ohs = df_bi_ohs.dropna()\n",
    "df_bi_ohs.shape"
   ]
  },
  {
   "cell_type": "markdown",
   "id": "f69cba6d",
   "metadata": {},
   "source": [
    "Слишком мало данных"
   ]
  },
  {
   "cell_type": "markdown",
   "id": "26335060",
   "metadata": {},
   "source": [
    "## OKS - оксфордская шкала оценки результата для коленного сустава"
   ]
  },
  {
   "cell_type": "code",
   "execution_count": 34,
   "id": "e15b90a5",
   "metadata": {
    "ExecuteTime": {
     "end_time": "2023-04-18T14:25:34.722630Z",
     "start_time": "2023-04-18T14:25:34.677926Z"
    }
   },
   "outputs": [
    {
     "data": {
      "text/html": [
       "<div>\n",
       "<style scoped>\n",
       "    .dataframe tbody tr th:only-of-type {\n",
       "        vertical-align: middle;\n",
       "    }\n",
       "\n",
       "    .dataframe tbody tr th {\n",
       "        vertical-align: top;\n",
       "    }\n",
       "\n",
       "    .dataframe thead th {\n",
       "        text-align: right;\n",
       "    }\n",
       "</style>\n",
       "<table border=\"1\" class=\"dataframe\">\n",
       "  <thead>\n",
       "    <tr style=\"text-align: right;\">\n",
       "      <th></th>\n",
       "      <th>q1_oxf_ks_washing</th>\n",
       "      <th>q1_oxf_ks_transport</th>\n",
       "      <th>q1_oxf_ks_walking</th>\n",
       "      <th>q1_oxf_ks_standing</th>\n",
       "      <th>q1_oxf_ks_limping</th>\n",
       "      <th>q1_oxf_ks_kneeling</th>\n",
       "      <th>q1_oxf_ks_night_pain</th>\n",
       "      <th>q1_oxf_ks_work</th>\n",
       "      <th>q1_oxf_ks_conf</th>\n",
       "      <th>q1_oxf_ks_shopping</th>\n",
       "      <th>q1_oxf_ks_stairs</th>\n",
       "      <th>q1_oxf_ks_total</th>\n",
       "    </tr>\n",
       "  </thead>\n",
       "  <tbody>\n",
       "    <tr>\n",
       "      <th>1</th>\n",
       "      <td>4.0</td>\n",
       "      <td>3.0</td>\n",
       "      <td>2.0</td>\n",
       "      <td>2.0</td>\n",
       "      <td>0.0</td>\n",
       "      <td>0.0</td>\n",
       "      <td>2.0</td>\n",
       "      <td>2.0</td>\n",
       "      <td>3.0</td>\n",
       "      <td>4.0</td>\n",
       "      <td>3.0</td>\n",
       "      <td>26.0</td>\n",
       "    </tr>\n",
       "    <tr>\n",
       "      <th>2</th>\n",
       "      <td>4.0</td>\n",
       "      <td>2.0</td>\n",
       "      <td>1.0</td>\n",
       "      <td>1.0</td>\n",
       "      <td>0.0</td>\n",
       "      <td>0.0</td>\n",
       "      <td>0.0</td>\n",
       "      <td>0.0</td>\n",
       "      <td>0.0</td>\n",
       "      <td>3.0</td>\n",
       "      <td>1.0</td>\n",
       "      <td>12.0</td>\n",
       "    </tr>\n",
       "    <tr>\n",
       "      <th>3</th>\n",
       "      <td>NaN</td>\n",
       "      <td>NaN</td>\n",
       "      <td>NaN</td>\n",
       "      <td>NaN</td>\n",
       "      <td>NaN</td>\n",
       "      <td>NaN</td>\n",
       "      <td>NaN</td>\n",
       "      <td>NaN</td>\n",
       "      <td>NaN</td>\n",
       "      <td>NaN</td>\n",
       "      <td>NaN</td>\n",
       "      <td>NaN</td>\n",
       "    </tr>\n",
       "    <tr>\n",
       "      <th>4</th>\n",
       "      <td>3.0</td>\n",
       "      <td>3.0</td>\n",
       "      <td>3.0</td>\n",
       "      <td>3.0</td>\n",
       "      <td>2.0</td>\n",
       "      <td>3.0</td>\n",
       "      <td>1.0</td>\n",
       "      <td>3.0</td>\n",
       "      <td>2.0</td>\n",
       "      <td>3.0</td>\n",
       "      <td>1.0</td>\n",
       "      <td>28.0</td>\n",
       "    </tr>\n",
       "    <tr>\n",
       "      <th>5</th>\n",
       "      <td>3.0</td>\n",
       "      <td>3.0</td>\n",
       "      <td>2.0</td>\n",
       "      <td>1.0</td>\n",
       "      <td>0.0</td>\n",
       "      <td>0.0</td>\n",
       "      <td>4.0</td>\n",
       "      <td>2.0</td>\n",
       "      <td>4.0</td>\n",
       "      <td>0.0</td>\n",
       "      <td>1.0</td>\n",
       "      <td>20.0</td>\n",
       "    </tr>\n",
       "  </tbody>\n",
       "</table>\n",
       "</div>"
      ],
      "text/plain": [
       "   q1_oxf_ks_washing  q1_oxf_ks_transport  q1_oxf_ks_walking  \\\n",
       "1                4.0                  3.0                2.0   \n",
       "2                4.0                  2.0                1.0   \n",
       "3                NaN                  NaN                NaN   \n",
       "4                3.0                  3.0                3.0   \n",
       "5                3.0                  3.0                2.0   \n",
       "\n",
       "   q1_oxf_ks_standing  q1_oxf_ks_limping  q1_oxf_ks_kneeling  \\\n",
       "1                 2.0                0.0                 0.0   \n",
       "2                 1.0                0.0                 0.0   \n",
       "3                 NaN                NaN                 NaN   \n",
       "4                 3.0                2.0                 3.0   \n",
       "5                 1.0                0.0                 0.0   \n",
       "\n",
       "   q1_oxf_ks_night_pain  q1_oxf_ks_work  q1_oxf_ks_conf  q1_oxf_ks_shopping  \\\n",
       "1                   2.0             2.0             3.0                 4.0   \n",
       "2                   0.0             0.0             0.0                 3.0   \n",
       "3                   NaN             NaN             NaN                 NaN   \n",
       "4                   1.0             3.0             2.0                 3.0   \n",
       "5                   4.0             2.0             4.0                 0.0   \n",
       "\n",
       "   q1_oxf_ks_stairs  q1_oxf_ks_total  \n",
       "1               3.0             26.0  \n",
       "2               1.0             12.0  \n",
       "3               NaN              NaN  \n",
       "4               1.0             28.0  \n",
       "5               1.0             20.0  "
      ]
     },
     "execution_count": 34,
     "metadata": {},
     "output_type": "execute_result"
    }
   ],
   "source": [
    "df.iloc[0:5, 75:87]"
   ]
  },
  {
   "cell_type": "code",
   "execution_count": 35,
   "id": "012ed39f",
   "metadata": {
    "ExecuteTime": {
     "end_time": "2023-04-18T14:25:37.677722Z",
     "start_time": "2023-04-18T14:25:37.661245Z"
    }
   },
   "outputs": [],
   "source": [
    "df_oks = df_base.join(df.iloc[:, 75:86])"
   ]
  },
  {
   "cell_type": "code",
   "execution_count": 36,
   "id": "02782d92",
   "metadata": {
    "ExecuteTime": {
     "end_time": "2023-04-18T14:25:38.118347Z",
     "start_time": "2023-04-18T14:25:38.096033Z"
    }
   },
   "outputs": [],
   "source": [
    "df_oks['mcid'] = df['mth6_oxf_ks_total'] - df['q1_oxf_ks_total']\n",
    "\n",
    "df_oks.loc[(df_oks.mcid < 9.22), 'mcid'] = 7\n",
    "# df_oks.loc[(df_oks.mcid >= 18.64), 'mcid'] = 8\n",
    "df_oks.loc[(df_oks.mcid >= 9.22), 'mcid'] = 8"
   ]
  },
  {
   "cell_type": "markdown",
   "id": "ba18e81e",
   "metadata": {},
   "source": [
    "### Ситуация аналогичная с OHS"
   ]
  },
  {
   "cell_type": "code",
   "execution_count": 37,
   "id": "b7d5f90d",
   "metadata": {
    "ExecuteTime": {
     "end_time": "2023-04-18T14:25:39.112980Z",
     "start_time": "2023-04-18T14:25:39.089837Z"
    }
   },
   "outputs": [],
   "source": [
    "df_oks = df_oks.dropna()"
   ]
  },
  {
   "cell_type": "code",
   "execution_count": 38,
   "id": "9183a895",
   "metadata": {
    "ExecuteTime": {
     "end_time": "2023-04-18T14:25:39.300097Z",
     "start_time": "2023-04-18T14:25:39.284089Z"
    }
   },
   "outputs": [],
   "source": [
    "df_oks = df_oks.drop(columns = 'joint')"
   ]
  },
  {
   "cell_type": "code",
   "execution_count": 39,
   "id": "4f66575e",
   "metadata": {
    "ExecuteTime": {
     "end_time": "2023-04-18T14:25:39.482283Z",
     "start_time": "2023-04-18T14:25:39.460046Z"
    }
   },
   "outputs": [],
   "source": [
    "num_replace = {'mcid': {7: 0, 8: 1}}\n",
    "df_oks = df_oks.replace(num_replace)"
   ]
  },
  {
   "cell_type": "code",
   "execution_count": 40,
   "id": "c293272e",
   "metadata": {
    "ExecuteTime": {
     "end_time": "2023-04-18T14:25:39.673754Z",
     "start_time": "2023-04-18T14:25:39.658682Z"
    }
   },
   "outputs": [],
   "source": [
    "num_replace = {'mcid': {7: 0, 8: 1}}"
   ]
  },
  {
   "cell_type": "code",
   "execution_count": 41,
   "id": "f9f47ca9",
   "metadata": {
    "ExecuteTime": {
     "end_time": "2023-04-18T14:25:39.881178Z",
     "start_time": "2023-04-18T14:25:39.858802Z"
    }
   },
   "outputs": [
    {
     "data": {
      "text/plain": [
       "1.0    3797\n",
       "0.0     707\n",
       "Name: mcid, dtype: int64"
      ]
     },
     "execution_count": 41,
     "metadata": {},
     "output_type": "execute_result"
    }
   ],
   "source": [
    "df_oks.mcid.value_counts()"
   ]
  },
  {
   "cell_type": "code",
   "execution_count": 42,
   "id": "2efee34c",
   "metadata": {
    "ExecuteTime": {
     "end_time": "2023-04-18T14:25:40.080596Z",
     "start_time": "2023-04-18T14:25:40.058842Z"
    }
   },
   "outputs": [
    {
     "data": {
      "text/plain": [
       "(7551, 227)"
      ]
     },
     "execution_count": 42,
     "metadata": {},
     "output_type": "execute_result"
    }
   ],
   "source": [
    "df.shape"
   ]
  },
  {
   "cell_type": "markdown",
   "id": "afc11f58",
   "metadata": {},
   "source": [
    "### OKS для левой стороны"
   ]
  },
  {
   "cell_type": "code",
   "execution_count": 43,
   "id": "056d9e33",
   "metadata": {
    "ExecuteTime": {
     "end_time": "2023-04-18T14:25:41.987579Z",
     "start_time": "2023-04-18T14:25:41.955021Z"
    }
   },
   "outputs": [
    {
     "data": {
      "text/html": [
       "<div>\n",
       "<style scoped>\n",
       "    .dataframe tbody tr th:only-of-type {\n",
       "        vertical-align: middle;\n",
       "    }\n",
       "\n",
       "    .dataframe tbody tr th {\n",
       "        vertical-align: top;\n",
       "    }\n",
       "\n",
       "    .dataframe thead th {\n",
       "        text-align: right;\n",
       "    }\n",
       "</style>\n",
       "<table border=\"1\" class=\"dataframe\">\n",
       "  <thead>\n",
       "    <tr style=\"text-align: right;\">\n",
       "      <th></th>\n",
       "      <th>q1_bi_oxf_ks_washing</th>\n",
       "      <th>q1_bi_oxf_ks_transport</th>\n",
       "      <th>q1_bi_oxf_ks_walking</th>\n",
       "      <th>q1_bi_oxf_ks_standing</th>\n",
       "      <th>q1_bi_oxf_ks_limping</th>\n",
       "      <th>q1_bi_oxf_ks_kneeling</th>\n",
       "      <th>q1_bi_oxf_ks_night_pain</th>\n",
       "      <th>q1_bi_oxf_ks_work</th>\n",
       "      <th>q1_bi_oxf_ks_conf</th>\n",
       "      <th>q1_bi_oxf_ks_shopping</th>\n",
       "      <th>q1_bi_oxf_ks_stairs</th>\n",
       "      <th>q1_bi_oxf_ks_total</th>\n",
       "    </tr>\n",
       "  </thead>\n",
       "  <tbody>\n",
       "    <tr>\n",
       "      <th>1</th>\n",
       "      <td>NaN</td>\n",
       "      <td>NaN</td>\n",
       "      <td>NaN</td>\n",
       "      <td>NaN</td>\n",
       "      <td>NaN</td>\n",
       "      <td>NaN</td>\n",
       "      <td>NaN</td>\n",
       "      <td>NaN</td>\n",
       "      <td>NaN</td>\n",
       "      <td>NaN</td>\n",
       "      <td>NaN</td>\n",
       "      <td>NaN</td>\n",
       "    </tr>\n",
       "    <tr>\n",
       "      <th>2</th>\n",
       "      <td>4.0</td>\n",
       "      <td>2.0</td>\n",
       "      <td>1.0</td>\n",
       "      <td>1.0</td>\n",
       "      <td>0.0</td>\n",
       "      <td>0.0</td>\n",
       "      <td>0.0</td>\n",
       "      <td>0.0</td>\n",
       "      <td>0.0</td>\n",
       "      <td>3.0</td>\n",
       "      <td>1.0</td>\n",
       "      <td>12.0</td>\n",
       "    </tr>\n",
       "    <tr>\n",
       "      <th>3</th>\n",
       "      <td>NaN</td>\n",
       "      <td>NaN</td>\n",
       "      <td>NaN</td>\n",
       "      <td>NaN</td>\n",
       "      <td>NaN</td>\n",
       "      <td>NaN</td>\n",
       "      <td>NaN</td>\n",
       "      <td>NaN</td>\n",
       "      <td>NaN</td>\n",
       "      <td>NaN</td>\n",
       "      <td>NaN</td>\n",
       "      <td>NaN</td>\n",
       "    </tr>\n",
       "    <tr>\n",
       "      <th>4</th>\n",
       "      <td>NaN</td>\n",
       "      <td>NaN</td>\n",
       "      <td>NaN</td>\n",
       "      <td>NaN</td>\n",
       "      <td>NaN</td>\n",
       "      <td>NaN</td>\n",
       "      <td>NaN</td>\n",
       "      <td>NaN</td>\n",
       "      <td>NaN</td>\n",
       "      <td>NaN</td>\n",
       "      <td>NaN</td>\n",
       "      <td>NaN</td>\n",
       "    </tr>\n",
       "    <tr>\n",
       "      <th>5</th>\n",
       "      <td>NaN</td>\n",
       "      <td>NaN</td>\n",
       "      <td>NaN</td>\n",
       "      <td>NaN</td>\n",
       "      <td>NaN</td>\n",
       "      <td>NaN</td>\n",
       "      <td>NaN</td>\n",
       "      <td>NaN</td>\n",
       "      <td>NaN</td>\n",
       "      <td>NaN</td>\n",
       "      <td>NaN</td>\n",
       "      <td>NaN</td>\n",
       "    </tr>\n",
       "  </tbody>\n",
       "</table>\n",
       "</div>"
      ],
      "text/plain": [
       "   q1_bi_oxf_ks_washing  q1_bi_oxf_ks_transport  q1_bi_oxf_ks_walking  \\\n",
       "1                   NaN                     NaN                   NaN   \n",
       "2                   4.0                     2.0                   1.0   \n",
       "3                   NaN                     NaN                   NaN   \n",
       "4                   NaN                     NaN                   NaN   \n",
       "5                   NaN                     NaN                   NaN   \n",
       "\n",
       "   q1_bi_oxf_ks_standing  q1_bi_oxf_ks_limping  q1_bi_oxf_ks_kneeling  \\\n",
       "1                    NaN                   NaN                    NaN   \n",
       "2                    1.0                   0.0                    0.0   \n",
       "3                    NaN                   NaN                    NaN   \n",
       "4                    NaN                   NaN                    NaN   \n",
       "5                    NaN                   NaN                    NaN   \n",
       "\n",
       "   q1_bi_oxf_ks_night_pain  q1_bi_oxf_ks_work  q1_bi_oxf_ks_conf  \\\n",
       "1                      NaN                NaN                NaN   \n",
       "2                      0.0                0.0                0.0   \n",
       "3                      NaN                NaN                NaN   \n",
       "4                      NaN                NaN                NaN   \n",
       "5                      NaN                NaN                NaN   \n",
       "\n",
       "   q1_bi_oxf_ks_shopping  q1_bi_oxf_ks_stairs  q1_bi_oxf_ks_total  \n",
       "1                    NaN                  NaN                 NaN  \n",
       "2                    3.0                  1.0                12.0  \n",
       "3                    NaN                  NaN                 NaN  \n",
       "4                    NaN                  NaN                 NaN  \n",
       "5                    NaN                  NaN                 NaN  "
      ]
     },
     "execution_count": 43,
     "metadata": {},
     "output_type": "execute_result"
    }
   ],
   "source": [
    "df.iloc[0:5, 88:100]"
   ]
  },
  {
   "cell_type": "code",
   "execution_count": 44,
   "id": "a3220d01",
   "metadata": {
    "ExecuteTime": {
     "end_time": "2023-04-18T14:25:42.157571Z",
     "start_time": "2023-04-18T14:25:42.141567Z"
    }
   },
   "outputs": [
    {
     "data": {
      "text/plain": [
       "(7551, 47)"
      ]
     },
     "execution_count": 44,
     "metadata": {},
     "output_type": "execute_result"
    }
   ],
   "source": [
    "df_bi_oks = df_base.join(df.iloc[:, 88:100])\n",
    "df_bi_oks.shape"
   ]
  },
  {
   "cell_type": "code",
   "execution_count": 45,
   "id": "04e99e1c",
   "metadata": {
    "ExecuteTime": {
     "end_time": "2023-04-18T14:25:42.341663Z",
     "start_time": "2023-04-18T14:25:42.317628Z"
    }
   },
   "outputs": [
    {
     "data": {
      "text/plain": [
       "(233, 47)"
      ]
     },
     "execution_count": 45,
     "metadata": {},
     "output_type": "execute_result"
    }
   ],
   "source": [
    "df_bi_oks = df_bi_oks.dropna()\n",
    "df_bi_oks.shape"
   ]
  },
  {
   "cell_type": "markdown",
   "id": "e38a3fef",
   "metadata": {},
   "source": [
    "Слишком мало данных"
   ]
  },
  {
   "cell_type": "markdown",
   "id": "9f96f4d3",
   "metadata": {},
   "source": [
    "# Нормализация данных"
   ]
  },
  {
   "cell_type": "code",
   "execution_count": 46,
   "id": "38749f9e",
   "metadata": {
    "ExecuteTime": {
     "end_time": "2023-04-18T14:25:43.474745Z",
     "start_time": "2023-04-18T14:25:43.428877Z"
    }
   },
   "outputs": [],
   "source": [
    "cdf = df_ohs\n",
    "cdf = (cdf-cdf.min ())/(cdf.max ()-cdf.min ())\n",
    "mcid = df_ohs['mcid']\n",
    "df_ohs = cdf\n",
    "# Не нормализуем столбец mcid\n",
    "df_ohs['mcid'] = mcid\n",
    "\n",
    "cdf = df_oks\n",
    "cdf = (cdf-cdf.min ())/(cdf.max ()-cdf.min ())\n",
    "mcid = df_oks['mcid']\n",
    "df_oks = cdf\n",
    "df_oks['mcid'] = mcid"
   ]
  },
  {
   "cell_type": "markdown",
   "id": "a624d74f",
   "metadata": {},
   "source": [
    "## Итого получаем"
   ]
  },
  {
   "cell_type": "code",
   "execution_count": 47,
   "id": "c6598faf",
   "metadata": {
    "ExecuteTime": {
     "end_time": "2023-04-18T14:25:45.806994Z",
     "start_time": "2023-04-18T14:25:45.790646Z"
    }
   },
   "outputs": [
    {
     "data": {
      "text/plain": [
       "(2203, 46)"
      ]
     },
     "execution_count": 47,
     "metadata": {},
     "output_type": "execute_result"
    }
   ],
   "source": [
    "df_ohs.shape"
   ]
  },
  {
   "cell_type": "code",
   "execution_count": 48,
   "id": "f574ebd2",
   "metadata": {
    "ExecuteTime": {
     "end_time": "2023-04-18T14:25:46.255688Z",
     "start_time": "2023-04-18T14:25:46.240438Z"
    }
   },
   "outputs": [
    {
     "data": {
      "text/plain": [
       "(4504, 46)"
      ]
     },
     "execution_count": 48,
     "metadata": {},
     "output_type": "execute_result"
    }
   ],
   "source": [
    "df_oks.shape"
   ]
  },
  {
   "cell_type": "markdown",
   "id": "8f568fa5",
   "metadata": {},
   "source": [
    "# Построение моделей"
   ]
  },
  {
   "cell_type": "code",
   "execution_count": 49,
   "id": "87f3124c",
   "metadata": {
    "ExecuteTime": {
     "end_time": "2023-04-18T14:25:49.729374Z",
     "start_time": "2023-04-18T14:25:48.615186Z"
    }
   },
   "outputs": [],
   "source": [
    "from sklearn.metrics import confusion_matrix, classification_report, accuracy_score\n",
    "from sklearn.model_selection import train_test_split, GridSearchCV, cross_val_score\n",
    "\n",
    "from sklearn.linear_model import LogisticRegression\n",
    "from sklearn.tree import DecisionTreeClassifier\n",
    "from sklearn.neighbors import KNeighborsClassifier\n",
    "from sklearn.svm import SVC\n",
    "from sklearn.naive_bayes import BernoulliNB\n",
    "from sklearn.ensemble import RandomForestClassifier\n",
    "from sklearn.discriminant_analysis import QuadraticDiscriminantAnalysis\n",
    "from sklearn.neural_network import MLPClassifier\n",
    "from sklearn.utils import resample\n",
    "# from imblearn.over_sampling import SMOTE\n",
    "from sklearn.model_selection import RandomizedSearchCV, GridSearchCV, cross_val_score, StratifiedKFold, cross_validate, KFold\n",
    "from sklearn.metrics import classification_report, confusion_matrix, precision_recall_curve, roc_curve, roc_auc_score\n",
    "from sklearn import metrics\n",
    "from sklearn.calibration import CalibratedClassifierCV, calibration_curve\n",
    "from statistics import mean\n",
    "import scipy.stats as st\n",
    "import random\n",
    "import xgboost as xgb\n",
    "import numpy as np\n",
    "import optuna\n",
    "\n",
    "\n",
    "import plotly.graph_objects as go"
   ]
  },
  {
   "cell_type": "markdown",
   "id": "1999c195",
   "metadata": {},
   "source": [
    "## TabNet и hyperTab"
   ]
  },
  {
   "cell_type": "code",
   "execution_count": 50,
   "id": "2c3a3d7c",
   "metadata": {
    "ExecuteTime": {
     "end_time": "2023-04-18T14:26:00.775853Z",
     "start_time": "2023-04-18T14:25:57.874529Z"
    }
   },
   "outputs": [],
   "source": [
    "from pytorch_tabnet.tab_model import TabNetClassifier\n",
    "from hypertab import HyperTabClassifier\n",
    "import torch\n",
    "\n",
    "path = 'ohs'\n",
    "DEVICE = \"cuda:0\" if torch.cuda.is_available() else \"cpu\""
   ]
  },
  {
   "cell_type": "code",
   "execution_count": 51,
   "id": "a527e20b",
   "metadata": {
    "ExecuteTime": {
     "end_time": "2023-04-18T14:26:02.021605Z",
     "start_time": "2023-04-18T14:26:01.998023Z"
    }
   },
   "outputs": [],
   "source": [
    "if path == 'oks':\n",
    "    X = df_oks.loc[:, df_oks.columns != 'mcid']\n",
    "    y = df_oks.loc[:, df_oks.columns == 'mcid']\n",
    "elif path == 'ohs':\n",
    "    X = df_ohs.loc[:, df_ohs.columns != 'mcid']\n",
    "    y = df_ohs.loc[:, df_ohs.columns == 'mcid']"
   ]
  },
  {
   "cell_type": "code",
   "execution_count": null,
   "id": "c4b59844",
   "metadata": {
    "ExecuteTime": {
     "end_time": "2023-04-17T10:32:59.267181Z",
     "start_time": "2023-04-17T09:55:15.303878Z"
    }
   },
   "outputs": [],
   "source": [
    "auc = []\n",
    "for num_epochs in range(1000, 9001, 2000):\n",
    "    for i in range(10):\n",
    "        X_train, X_test, y_train, y_test = train_test_split(X, y, test_size=0.20, random_state=random.randint(1, 10000))\n",
    "        tabNet = TabNetClassifier(verbose=0,seed=42)\n",
    "        tabNet.fit(X_train = X_train.to_numpy().squeeze(), y_train = y_train.to_numpy().squeeze(), patience=0, max_epochs=num_epochs,\n",
    "                eval_metric=['auc'])\n",
    "        auc.append(roc_auc_score(y_test.to_numpy(), tabNet.predict(X_test.to_numpy())))\n",
    "    print(f'epochs: {num_epochs}')\n",
    "    print(f'array: {auc}')\n",
    "    print(f'mean = {mean(auc)}')\n",
    "    print()\n",
    "    auc = []"
   ]
  },
  {
   "cell_type": "code",
   "execution_count": null,
   "id": "6c033090",
   "metadata": {
    "ExecuteTime": {
     "end_time": "2023-04-17T17:01:29.723486Z",
     "start_time": "2023-04-17T17:00:51.585716Z"
    }
   },
   "outputs": [],
   "source": [
    "auc = []\n",
    "for num_epochs in range(10, 91, 20):\n",
    "    for i in range(10):\n",
    "        X_train, X_test, y_train, y_test = train_test_split(X, y, test_size=0.20, random_state=random.randint(1, 10000))\n",
    "        hyperTab = HyperTabClassifier(device=DEVICE, test_nodes=60, epochs=num_epochs, hidden_dims=2)\n",
    "        hyperTab.fit(X_train.to_numpy().squeeze(), y_train.to_numpy().squeeze())\n",
    "        auc.append(roc_auc_score(y_test.to_numpy(), hyperTab.predict(X_test.to_numpy())))\n",
    "    print(f'epochs: {num_epochs}')\n",
    "    print(f'array: {auc}')\n",
    "    print(f'mean = {mean(auc)}')\n",
    "    print()\n",
    "    auc = []"
   ]
  },
  {
   "cell_type": "markdown",
   "id": "77a7cd14",
   "metadata": {},
   "source": [
    "# Оставшиеся модели"
   ]
  },
  {
   "cell_type": "code",
   "execution_count": 52,
   "id": "f3021d5c",
   "metadata": {
    "ExecuteTime": {
     "end_time": "2023-04-18T14:26:16.529457Z",
     "start_time": "2023-04-18T14:26:16.513904Z"
    }
   },
   "outputs": [],
   "source": [
    "common = 'appendices/'"
   ]
  },
  {
   "cell_type": "code",
   "execution_count": 53,
   "id": "7e23d2f7",
   "metadata": {
    "ExecuteTime": {
     "end_time": "2023-04-18T14:26:16.937292Z",
     "start_time": "2023-04-18T14:26:16.923033Z"
    }
   },
   "outputs": [],
   "source": [
    "path = 'ohs'\n",
    "get_ready = True"
   ]
  },
  {
   "cell_type": "markdown",
   "id": "4ebaddc8",
   "metadata": {},
   "source": [
    "## Разделить датасет на обучение и тюнинг"
   ]
  },
  {
   "cell_type": "code",
   "execution_count": 54,
   "id": "967ffb42",
   "metadata": {
    "ExecuteTime": {
     "end_time": "2023-04-18T14:26:26.575899Z",
     "start_time": "2023-04-18T14:26:26.559922Z"
    }
   },
   "outputs": [],
   "source": [
    "if not get_ready:\n",
    "    if path == 'oks':\n",
    "        elem_df = df_oks.copy()\n",
    "    elif path == 'ohs':\n",
    "        elem_df = df_ohs.copy()\n",
    "\n",
    "    X = elem_df.loc[:, elem_df.columns != 'mcid']\n",
    "    y = elem_df.loc[:, elem_df.columns == 'mcid']\n",
    "\n",
    "    X, X_tuning, y, y_tuning = train_test_split(\n",
    "            X, y, test_size=0.50, random_state=random.randint(1, 10000))"
   ]
  },
  {
   "cell_type": "markdown",
   "id": "344875ae",
   "metadata": {},
   "source": [
    "## Сохранить датасеты"
   ]
  },
  {
   "cell_type": "code",
   "execution_count": 55,
   "id": "146ca507",
   "metadata": {
    "ExecuteTime": {
     "end_time": "2023-04-18T14:26:27.460167Z",
     "start_time": "2023-04-18T14:26:27.443455Z"
    }
   },
   "outputs": [],
   "source": [
    "if not get_ready:\n",
    "    X['mcid'] = y\n",
    "    X_tuning['mcid'] = y_tuning\n",
    "\n",
    "    X.to_csv(r'tuning_training_csv/' + path + '/model_training.csv')\n",
    "    X_tuning.to_csv(r'tuning_training_csv/' + path + '/tuning.csv')\n",
    "\n",
    "    X = X.drop(columns=['mcid'])\n",
    "    X_tuning = X_tuning.drop(columns=['mcid'])"
   ]
  },
  {
   "cell_type": "markdown",
   "id": "f648dae8",
   "metadata": {},
   "source": [
    "## Подбор гиперпараметров"
   ]
  },
  {
   "cell_type": "code",
   "execution_count": 56,
   "id": "b0fe5da1",
   "metadata": {
    "ExecuteTime": {
     "end_time": "2023-04-18T14:26:27.990500Z",
     "start_time": "2023-04-18T14:26:27.916912Z"
    }
   },
   "outputs": [],
   "source": [
    "if not get_ready:    \n",
    "    def logreg_objective(trial):\n",
    "        c = trial.suggest_float('C', 1e-5, 1000, log=True)\n",
    "        penalty = trial.suggest_categorical(\"penalty\", ('l1', 'l2'))\n",
    "        class_weight = {0: trial.suggest_float('class_weight', 1,20)}\n",
    "\n",
    "        clf =  LogisticRegression(class_weight = class_weight, max_iter=5000, penalty='l1', solver='liblinear', C=c)\n",
    "\n",
    "        auc = []\n",
    "        random.seed(random.randint(1, 10000))\n",
    "        for i in range(10):\n",
    "            X_train, X_test, y_train, y_test = train_test_split(\n",
    "                X_tuning, y_tuning, test_size=0.20, random_state=random.randint(1, 10000))\n",
    "\n",
    "            clf.fit(X_train, y_train.values.ravel())\n",
    "            auc.append(roc_auc_score(y_test, clf.predict(X_test)))\n",
    "\n",
    "        return sum(auc)/len(auc)\n",
    "\n",
    "\n",
    "    logreg_study = optuna.create_study(direction='maximize')\n",
    "    logreg_study.optimize(logreg_objective, n_trials=100)\n",
    "\n",
    "    def dt_objective(trial):\n",
    "        md = trial.suggest_int('max_depth', 2, 100)\n",
    "        mi = trial.suggest_int('min_samples_leaf', 1, 100)\n",
    "        splitter = trial.suggest_categorical(\"splitter\", (\"best\", \"random\"))\n",
    "        min_samples_split = trial.suggest_int('min_samples_split', 2, 100)\n",
    "        max_features = trial.suggest_int('max_features', 1, 100)\n",
    "        class_weight = {0: trial.suggest_float('class_weight', 1,20)}\n",
    "\n",
    "        clf =  DecisionTreeClassifier(class_weight = class_weight, max_depth=md, min_samples_leaf=mi, splitter = splitter, random_state=1, min_samples_split = min_samples_split, max_features = max_features)\n",
    "        auc = []\n",
    "        random.seed(random.randint(1, 10000))\n",
    "        for i in range(10):\n",
    "            X_train, X_test, y_train, y_test = train_test_split(\n",
    "                X_tuning, y_tuning, test_size=0.20, random_state=random.randint(1, 10000))\n",
    "\n",
    "            clf.fit(X_train, y_train.values.ravel())\n",
    "            auc.append(roc_auc_score(y_test, clf.predict(X_test)))\n",
    "\n",
    "        return sum(auc)/len(auc)\n",
    "\n",
    "    dt_study = optuna.create_study(direction='maximize')\n",
    "    dt_study.optimize(dt_objective, n_trials=100)\n",
    "\n",
    "    def knn_objective(trial):\n",
    "        n_neighbors = trial.suggest_int('n_neighbors', 2, 32)\n",
    "        leaf_size = trial.suggest_int('leaf_size', 1, 60)\n",
    "        p = trial.suggest_int('p', 1, 2)\n",
    "\n",
    "        clf =  KNeighborsClassifier(n_neighbors = n_neighbors, leaf_size = leaf_size, p = p)\n",
    "        auc = []\n",
    "        random.seed(random.randint(1, 10000))\n",
    "        for i in range(10):\n",
    "            X_train, X_test, y_train, y_test = train_test_split(\n",
    "                X_tuning, y_tuning, test_size=0.20, random_state=random.randint(1, 10000))\n",
    "\n",
    "            clf.fit(X_train, y_train.values.ravel())\n",
    "            auc.append(roc_auc_score(y_test, clf.predict(X_test)))\n",
    "\n",
    "        return sum(auc)/len(auc)\n",
    "\n",
    "    knn_study = optuna.create_study(direction='maximize')\n",
    "    knn_study.optimize(knn_objective, n_trials=100)\n",
    "\n",
    "    def svc_objective(trial):\n",
    "        C = trial.suggest_float('C', 1e-5, 100, log = True)\n",
    "        gamma = trial.suggest_float('gamma', 1e-5, 100, log = True)\n",
    "        kernel = trial.suggest_categorical(\"kernel\", ('rbf', 'poly', 'sigmoid'))\n",
    "        class_weight = {0: trial.suggest_float('class_weight', 1,20)}\n",
    "\n",
    "        clf =  SVC(class_weight = class_weight, C = C, gamma = gamma, kernel = kernel)\n",
    "        auc = []\n",
    "        random.seed(random.randint(1, 10000))\n",
    "        for i in range(10):\n",
    "            X_train, X_test, y_train, y_test = train_test_split(\n",
    "                X_tuning, y_tuning, test_size=0.20, random_state=random.randint(1, 10000))\n",
    "\n",
    "            clf.fit(X_train, y_train.values.ravel())\n",
    "            auc.append(roc_auc_score(y_test, clf.predict(X_test)))\n",
    "\n",
    "        return sum(auc)/len(auc)\n",
    "\n",
    "    svc_study = optuna.create_study(direction='maximize')\n",
    "    svc_study.optimize(svc_objective, n_trials=100)\n",
    "\n",
    "    def nb_objective(trial):\n",
    "        alpha = trial.suggest_float('alpha', 0.001, 1, log=True)\n",
    "        binarize = trial.suggest_float('binarize', 0.001, 1, log=True)\n",
    "        fit_prior = trial.suggest_categorical(\"fit_prior\", (True, False))\n",
    "\n",
    "        clf = BernoulliNB(alpha = alpha, binarize = binarize, fit_prior = fit_prior)\n",
    "        auc = []\n",
    "        random.seed(random.randint(1, 10000))\n",
    "        for i in range(10):\n",
    "            X_train, X_test, y_train, y_test = train_test_split(\n",
    "                X_tuning, y_tuning, test_size=0.20, random_state=random.randint(1, 10000))\n",
    "\n",
    "            clf.fit(X_train, y_train.values.ravel())\n",
    "            auc.append(roc_auc_score(y_test, clf.predict(X_test)))\n",
    "\n",
    "        return sum(auc)/len(auc)\n",
    "\n",
    "    nb_study = optuna.create_study(direction='maximize')\n",
    "    nb_study.optimize(nb_objective, n_trials=100)\n",
    "\n",
    "    def rt_objective(trial):\n",
    "        n_estimators = trial.suggest_int('n_estimators', 25, 400)\n",
    "        max_depth = trial.suggest_int('max_depth', 2, 32)\n",
    "        max_features = trial.suggest_int('max_features', 1, 30)\n",
    "        bootstrap = trial.suggest_categorical(\"bootstrap\", (True, False))\n",
    "        max_leaf_nodes =  trial.suggest_int('max_leaf_nodes', 2, 20)\n",
    "        criterion = trial.suggest_categorical(\"criterion\", ('entropy', 'gini', 'log_loss'))\n",
    "        class_weight = {0: trial.suggest_float('class_weight', 1,20)}\n",
    "\n",
    "        clf = RandomForestClassifier(class_weight = class_weight, max_leaf_nodes = max_leaf_nodes, max_depth = max_depth, n_estimators = n_estimators, max_features = max_features, bootstrap = bootstrap, criterion = criterion)\n",
    "        auc = []\n",
    "        random.seed(random.randint(1, 10000))\n",
    "        for i in range(10):\n",
    "            X_train, X_test, y_train, y_test = train_test_split(\n",
    "                X_tuning, y_tuning, test_size=0.20, random_state=random.randint(1, 10000))\n",
    "\n",
    "            clf.fit(X_train, y_train.values.ravel())\n",
    "            auc.append(roc_auc_score(y_test, clf.predict(X_test)))\n",
    "\n",
    "        return sum(auc)/len(auc)\n",
    "\n",
    "    rt_study = optuna.create_study(direction='maximize')\n",
    "    rt_study.optimize(rt_objective, n_trials=100)\n",
    "\n",
    "    def qda_objective(trial):\n",
    "        reg_param = trial.suggest_int('reg_param', 0.01, 1)\n",
    "\n",
    "\n",
    "        clf = QuadraticDiscriminantAnalysis(reg_param = reg_param)\n",
    "        auc = []\n",
    "        random.seed(random.randint(1, 10000))\n",
    "        for i in range(10):\n",
    "            X_train, X_test, y_train, y_test = train_test_split(\n",
    "                X_tuning, y_tuning, test_size=0.20, random_state=random.randint(1, 10000))\n",
    "\n",
    "            clf.fit(X_train, y_train.values.ravel())\n",
    "            auc.append(roc_auc_score(y_test, clf.predict(X_test)))\n",
    "\n",
    "        return sum(auc)/len(auc)\n",
    "\n",
    "    qda_study = optuna.create_study(direction='maximize')\n",
    "    qda_study.optimize(qda_objective, n_trials=100)\n",
    "\n",
    "    def xgb_objective(trial):\n",
    "        param = {\n",
    "            \"verbosity\": 0,\n",
    "            \"objective\": \"binary:logistic\",\n",
    "            \"eval_metric\": \"auc\",\n",
    "            \"booster\": trial.suggest_categorical(\"booster\", [\"gbtree\", \"dart\"]),\n",
    "            \"lambda\": trial.suggest_float(\"lambda\", 1e-8, 1.0, log=True),\n",
    "            \"alpha\": trial.suggest_float(\"alpha\", 1e-8, 1.0, log=True),\n",
    "            # sampling ratio for training data.\n",
    "            \"subsample\": trial.suggest_float(\"subsample\", 0.2, 1.0),\n",
    "            # sampling according to each tree.\n",
    "            \"colsample_bytree\": trial.suggest_float(\"colsample_bytree\", 0.2, 1.0),\n",
    "            # class_weight заменился на scale_pos_weight, но в приложении старая версия\n",
    "            \"scale_pos_weight\": trial.suggest_int(\"scale_pos_weight\", 1, 20)\n",
    "        }\n",
    "\n",
    "        if param[\"booster\"] == \"gbtree\" or param[\"booster\"] == \"dart\":\n",
    "            param[\"max_depth\"] = trial.suggest_int(\"max_depth\", 1, 9)\n",
    "            # minimum child weight, larger the term more conservative the tree.\n",
    "            param[\"min_child_weight\"] = trial.suggest_int(\"min_child_weight\", 2, 10)\n",
    "            param[\"eta\"] = trial.suggest_float(\"eta\", 1e-8, 1.0, log=True)\n",
    "            param[\"gamma\"] = trial.suggest_float(\"gamma\", 1e-8, 1.0, log=True)\n",
    "            param[\"grow_policy\"] = trial.suggest_categorical(\"grow_policy\", [\"depthwise\", \"lossguide\"])\n",
    "\n",
    "        if param[\"booster\"] == \"dart\":\n",
    "            param[\"sample_type\"] = trial.suggest_categorical(\"sample_type\", [\"uniform\", \"weighted\"])\n",
    "            param[\"normalize_type\"] = trial.suggest_categorical(\"normalize_type\", [\"tree\", \"forest\"])\n",
    "            param[\"rate_drop\"] = trial.suggest_float(\"rate_drop\", 1e-8, 1.0, log=True)\n",
    "            param[\"skip_drop\"] = trial.suggest_float(\"skip_drop\", 1e-8, 1.0, log=True)\n",
    "\n",
    "        clf = xgb.XGBClassifier(**param)\n",
    "        auc = []\n",
    "        random.seed(random.randint(1, 10000))\n",
    "        for i in range(10):\n",
    "            X_train, X_test, y_train, y_test = train_test_split(\n",
    "                X_tuning, y_tuning, test_size=0.20, random_state=random.randint(1, 10000))\n",
    "\n",
    "            clf.fit(X_train, y_train.values.ravel())\n",
    "            auc.append(roc_auc_score(y_test, clf.predict(X_test)))\n",
    "\n",
    "        return sum(auc)/len(auc)\n",
    "\n",
    "    xgb_study = optuna.create_study(direction='maximize')\n",
    "    xgb_study.optimize(xgb_objective, n_trials=100)\n",
    "\n",
    "    def nn_objective(trial):\n",
    "        n_layers = trial.suggest_int('n_layers', 1, 2)\n",
    "        momentum = trial.suggest_float(\"momentum\", 0.0, 1)\n",
    "        layers = []\n",
    "        for i in range(n_layers):\n",
    "            layers.append(trial.suggest_int(f'n_units_{i}', 1, 100))\n",
    "\n",
    "        activation = trial.suggest_categorical('activation', ('tanh', 'relu'))\n",
    "        solver = trial.suggest_categorical('solver', ('sgd', 'adam'))\n",
    "        alpha = trial.suggest_float('alpha', 0.01, 1)\n",
    "        learning_rate = trial.suggest_categorical('learning_rate', ('constant','adaptive'))\n",
    "        power_t = trial.suggest_float(\"power_t\", 0.2, 1, step=0.1)\n",
    "\n",
    "        clf = MLPClassifier(momentum = momentum, power_t = power_t, solver = solver, alpha = alpha, activation = activation, learning_rate = learning_rate, hidden_layer_sizes=tuple(layers))\n",
    "        auc = []\n",
    "        random.seed(random.randint(1, 10000))\n",
    "        for i in range(10):\n",
    "            X_train, X_test, y_train, y_test = train_test_split(\n",
    "                X_tuning, y_tuning, test_size=0.20, random_state=random.randint(1, 10000))\n",
    "\n",
    "            clf.fit(X_train, y_train.values.ravel())\n",
    "            auc.append(roc_auc_score(y_test, clf.predict(X_test)))\n",
    "\n",
    "        return sum(auc)/len(auc)\n",
    "\n",
    "    nn_study = optuna.create_study(direction='maximize')\n",
    "    nn_study.optimize(nn_objective, n_trials=100)\n",
    "    \n",
    "# import torch\n",
    "# from pytorch_tabnet.tab_model import TabNetClassifier\n",
    "\n",
    "# def tabNet_objective(trial):\n",
    "#     param = { \n",
    "#         'n_d': trial.suggest_int('n_d', 8, 64),\n",
    "#         'n_a': trial.suggest_int('n_a', 8, 64),\n",
    "#         'n_steps': trial.suggest_int('n_steps', 3, 10),\n",
    "#         'gamma': trial.suggest_float('gamma', 1, 2),\n",
    "#         'n_independent': trial.suggest_int('n_d', 1, 5),\n",
    "#         'n_shared': trial.suggest_int('n_shared', 1, 5),\n",
    "#         'momentum': trial.suggest_float('momentum', 0.01, 0.4),\n",
    "#         'clip_value': trial.suggest_categorical('clip_value', (None, 2.)),\n",
    "#         'optimizer_fn': torch.optim.Adam,\n",
    "#         'optimizer_params': dict(lr=2e-2),\n",
    "#         'scheduler_params': {\"gamma\": 0.95,\n",
    "#                          \"step_size\": 20},\n",
    "#         'scheduler_fn': torch.optim.lr_scheduler.StepLR\n",
    "#     }\n",
    "\n",
    "#     clf = TabNetClassifier(**param, verbose = 0)\n",
    "#     auc = []\n",
    "#     random.seed(random.randint(1, 10000))\n",
    "#     for i in range(10):\n",
    "#         X_train, X_test, y_train, y_test = train_test_split(\n",
    "#             X_tuning, y_tuning, test_size=0.20, random_state=random.randint(1, 10000))\n",
    "\n",
    "#         clf.fit(X_train.to_numpy().squeeze(), y_train.to_numpy().squeeze(), patience=0, max_epochs=1200,\n",
    "#           eval_metric=['auc'])\n",
    "#         auc.append(roc_auc_score(y_test.to_numpy(), clf.predict(X_test.to_numpy())))\n",
    "\n",
    "#     return sum(auc)/len(auc)\n",
    "\n",
    "# tabNet_study = optuna.create_study(direction='maximize')\n",
    "# tabNet_study.optimize(tabNet_objective, n_trials=100)"
   ]
  },
  {
   "cell_type": "markdown",
   "id": "9340f866",
   "metadata": {},
   "source": [
    "## Сохранение результатов"
   ]
  },
  {
   "cell_type": "code",
   "execution_count": 57,
   "id": "76fb6118",
   "metadata": {
    "ExecuteTime": {
     "end_time": "2023-04-18T14:26:28.396342Z",
     "start_time": "2023-04-18T14:26:28.364349Z"
    }
   },
   "outputs": [],
   "source": [
    "if not get_ready:\n",
    "    import pickle \n",
    "    from optuna.visualization import plot_optimization_history, plot_slice\n",
    "\n",
    "    path_csv = common + 'study/' + path + '/csv/'\n",
    "    logreg_study_df = logreg_study.trials_dataframe()\n",
    "    logreg_study_df.to_csv(path_csv + 'logreg_study.csv')\n",
    "\n",
    "    knn_study_df = knn_study.trials_dataframe()\n",
    "    knn_study_df.to_csv(path_csv + 'knn_study.csv')\n",
    "\n",
    "    nb_study_df = nb_study.trials_dataframe()\n",
    "    nb_study_df.to_csv(path_csv + 'nb_study.csv')\n",
    "\n",
    "    svc_study_df = svc_study.trials_dataframe()\n",
    "    svc_study_df.to_csv(path_csv + 'svc_study.csv')\n",
    "\n",
    "    dt_study_df = dt_study.trials_dataframe()\n",
    "    dt_study_df.to_csv(path_csv + 'dt_study.csv')\n",
    "\n",
    "    rt_study_df = rt_study.trials_dataframe()\n",
    "    rt_study_df.to_csv(path_csv + 'rt_study.csv')\n",
    "\n",
    "    qda_study_df = qda_study.trials_dataframe()\n",
    "    qda_study_df.to_csv(path_csv + 'qda_study.csv')\n",
    "\n",
    "    xgb_study_df = xgb_study.trials_dataframe()\n",
    "    xgb_study_df.to_csv(path_csv + 'xgb_study.csv')\n",
    "\n",
    "    nn_study_df = nn_study.trials_dataframe()\n",
    "    nn_study_df.to_csv(path_csv + 'nn_study.csv')\n",
    "\n",
    "\n",
    "    path_images = common + \"study/\" + path + \"/images/\"\n",
    "    plot_slice(logreg_study).write_image(path_images + \"logreg_study.png\")\n",
    "    plot_slice(knn_study).write_image(path_images + \"knn_study.png\")\n",
    "    plot_slice(nb_study).write_image(path_images + \"nb_study.png\")\n",
    "    plot_slice(svc_study).write_image(path_images + \"svc_study.png\")\n",
    "    plot_slice(dt_study).write_image(path_images + \"dt_study.png\")\n",
    "    plot_slice(rt_study).write_image(path_images + \"rt_study.png\")\n",
    "    plot_slice(qda_study).write_image(path_images + \"qda_study.png\")\n",
    "    plot_slice(xgb_study).write_image(path_images + \"xgb_study.png\")\n",
    "    plot_slice(nn_study).write_image(path_images + \"nn_study.png\")\n",
    "\n",
    "\n",
    "    path_pkls = common + 'study/' + path + '/pkls/'\n",
    "    with open(path_pkls + 'logreg_study.pkl', 'wb') as f:\n",
    "        pickle.dump(logreg_study, f)\n",
    "\n",
    "    with open(path_pkls + 'knn_study.pkl', 'wb') as f:\n",
    "        pickle.dump(knn_study, f)\n",
    "\n",
    "    with open(path_pkls + 'nb_study.pkl', 'wb') as f:\n",
    "        pickle.dump(nb_study, f)\n",
    "\n",
    "    with open(path_pkls + 'svc_study.pkl', 'wb') as f:\n",
    "        pickle.dump(svc_study, f)\n",
    "\n",
    "    with open(path_pkls + 'dt_study.pkl', 'wb') as f:\n",
    "        pickle.dump(dt_study, f)\n",
    "\n",
    "    with open(path_pkls + 'rt_study.pkl', 'wb') as f:\n",
    "        pickle.dump(rt_study, f)\n",
    "\n",
    "    with open(path_pkls + 'qda_study.pkl', 'wb') as f:\n",
    "        pickle.dump(qda_study, f)\n",
    "\n",
    "    with open(path_pkls + 'xgb_study.pkl', 'wb') as f:\n",
    "        pickle.dump(xgb_study, f)\n",
    "\n",
    "    with open(path_pkls + 'nn_study.pkl', 'wb') as f:\n",
    "        pickle.dump(nn_study, f)"
   ]
  },
  {
   "cell_type": "markdown",
   "id": "e8294ed4",
   "metadata": {},
   "source": [
    "## Уже разделенный датасет"
   ]
  },
  {
   "cell_type": "code",
   "execution_count": 58,
   "id": "b09b5da1",
   "metadata": {
    "ExecuteTime": {
     "end_time": "2023-04-18T14:26:29.338724Z",
     "start_time": "2023-04-18T14:26:29.128392Z"
    }
   },
   "outputs": [],
   "source": [
    "if get_ready:\n",
    "    df_training = pd.read_csv(common + 'tuning_training_csv/' + path + '/model_training.csv')\n",
    "    df_tuning = pd.read_csv(common + 'tuning_training_csv/' + path + '/tuning.csv')\n",
    "\n",
    "    df_training = df_training.iloc[:, 1:]\n",
    "    df_tuning = df_tuning.iloc[:, 1:]\n",
    "\n",
    "    X = df_training.loc[:, df_training.columns != 'mcid']\n",
    "    y = df_training.loc[:, df_training.columns == 'mcid']\n",
    "\n",
    "    X_tuning = df_tuning.loc[:, df_tuning.columns != 'mcid']\n",
    "    y_tuning = df_tuning.loc[:, df_tuning.columns == 'mcid']"
   ]
  },
  {
   "cell_type": "markdown",
   "id": "4048fa94",
   "metadata": {},
   "source": [
    "## Импорт уже найденных гиперпараметров"
   ]
  },
  {
   "cell_type": "code",
   "execution_count": 59,
   "id": "fdf47a87",
   "metadata": {
    "ExecuteTime": {
     "end_time": "2023-04-18T14:26:30.376953Z",
     "start_time": "2023-04-18T14:26:29.978417Z"
    }
   },
   "outputs": [],
   "source": [
    "if get_ready:\n",
    "    import pickle\n",
    "\n",
    "    path_pkls = common + 'study/' + path + '/pkls/'\n",
    "    with open(path_pkls + 'logreg_study.pkl', 'rb') as f:\n",
    "        logreg_study= pickle.load(f)\n",
    "\n",
    "    with open(path_pkls + 'knn_study.pkl', 'rb') as f:\n",
    "        knn_study = pickle.load(f)\n",
    "\n",
    "    with open(path_pkls + 'nb_study.pkl', 'rb') as f:\n",
    "        nb_study = pickle.load(f)\n",
    "\n",
    "    with open(path_pkls + 'svc_study.pkl', 'rb') as f:\n",
    "        svc_study = pickle.load(f)\n",
    "\n",
    "    with open(path_pkls + 'dt_study.pkl', 'rb') as f:\n",
    "        dt_study = pickle.load(f)\n",
    "\n",
    "    with open(path_pkls + 'rt_study.pkl', 'rb') as f:\n",
    "        rt_study = pickle.load(f)\n",
    "\n",
    "    with open(path_pkls + 'qda_study.pkl', 'rb') as f:\n",
    "        qda_study = pickle.load(f)\n",
    "\n",
    "    with open(path_pkls + 'xgb_study.pkl', 'rb') as f:\n",
    "        xgb_study = pickle.load(f)\n",
    "\n",
    "    with open(path_pkls + 'nn_study.pkl', 'rb') as f:\n",
    "        nn_study = pickle.load(f)"
   ]
  },
  {
   "cell_type": "markdown",
   "id": "5bd804ae",
   "metadata": {},
   "source": [
    "# Построение доверительных интервалов AUC для оставшихся моделей"
   ]
  },
  {
   "cell_type": "code",
   "execution_count": 60,
   "id": "4965b866",
   "metadata": {
    "ExecuteTime": {
     "end_time": "2023-04-18T14:26:31.773566Z",
     "start_time": "2023-04-18T14:26:31.757882Z"
    }
   },
   "outputs": [],
   "source": [
    "auc = {\n",
    "    'logreg': [],\n",
    "    'knn' : [],\n",
    "    'svc' : [],\n",
    "    'nb' : [],\n",
    "    'qda' : [],\n",
    "    'dt' : [],\n",
    "    'rt' : [],\n",
    "    'xgbx' : [],\n",
    "    'nn' : []\n",
    "}\n",
    "models_names = ['logreg', 'knn', 'svc', 'nb', 'qda', 'dt', 'rt']"
   ]
  },
  {
   "cell_type": "code",
   "execution_count": null,
   "id": "0d4cc7c6",
   "metadata": {
    "ExecuteTime": {
     "end_time": "2023-04-13T18:58:19.080329Z",
     "start_time": "2023-04-13T18:55:49.147136Z"
    }
   },
   "outputs": [],
   "source": [
    "params = logreg_study.best_params\n",
    "logreg = LogisticRegression(class_weight = {0: params.pop('class_weight')}, **params, max_iter = 5000, solver = 'liblinear')\n",
    "\n",
    "params = dt_study.best_params\n",
    "dt = DecisionTreeClassifier(class_weight = {0: params.pop('class_weight')}, **params)\n",
    "\n",
    "params = knn_study.best_params\n",
    "knn = KNeighborsClassifier(**params)\n",
    "\n",
    "params = svc_study.best_params\n",
    "svc = SVC(class_weight = {0: params.pop('class_weight')}, **params)\n",
    "\n",
    "params = nb_study.best_params\n",
    "nb = BernoulliNB(**params)\n",
    "\n",
    "params = qda_study.best_params\n",
    "qda = QuadraticDiscriminantAnalysis(**params)\n",
    "\n",
    "params = rt_study.best_params\n",
    "rt = RandomForestClassifier(class_weight = {0: params.pop('class_weight')}, **params)\n",
    "\n",
    "params = xgb_study.best_params\n",
    "xgbx = xgb.XGBClassifier(**params, scale_pos_weight=5.364)\n",
    "\n",
    "params = nn_study.best_params\n",
    "layers = []\n",
    "#n_units = params.pop('n_units_0')\n",
    "for i in range(params.pop('n_layers')):\n",
    "    layers.append(params.pop(f'n_units_{i}'))\n",
    "nn = MLPClassifier(hidden_layer_sizes = tuple(layers), **params, max_iter = 200)\n",
    "\n",
    "models = [logreg, knn, svc, nb, qda, dt, rt, xgbx, nn]\n",
    "\n",
    "#clf.fit(X_train, y_train.values.ravel())\n",
    "\n",
    "i = 0\n",
    "for model in models:\n",
    "    for j in range(1000):\n",
    "        X_train, X_test, y_train, y_test = train_test_split(\n",
    "            X, y, test_size=0.20, random_state=random.randint(1, 10000))\n",
    "\n",
    "        model.fit(X_train, y_train.values.ravel())\n",
    "        auc[models_names[i]].append(roc_auc_score(y_test, model.predict(X_test)))\n",
    "    i+=1"
   ]
  },
  {
   "cell_type": "code",
   "execution_count": null,
   "id": "dd7f4869",
   "metadata": {
    "ExecuteTime": {
     "end_time": "2023-04-18T14:07:43.245779Z",
     "start_time": "2023-04-18T14:07:43.205726Z"
    }
   },
   "outputs": [],
   "source": [
    "for name in models_names:\n",
    "    print(name)\n",
    "    print('lower: ' + str(sorted(auc[name])[24]))\n",
    "    print('upper: ' + str(sorted(auc[name])[974]))\n",
    "    print('mean: ' + str(mean(auc[name])))\n",
    "    print()"
   ]
  },
  {
   "cell_type": "markdown",
   "id": "b7fab190",
   "metadata": {},
   "source": [
    "## Калибровка моделей"
   ]
  },
  {
   "cell_type": "code",
   "execution_count": null,
   "id": "1315b2ae",
   "metadata": {
    "ExecuteTime": {
     "end_time": "2023-04-11T16:43:29.485597Z",
     "start_time": "2023-04-11T16:43:29.477585Z"
    }
   },
   "outputs": [],
   "source": [
    "def ece(y_test, preds, strategy = 'uniform'):\n",
    "    df = pd.DataFrame({'target': y_test, 'proba': preds, 'bin': np.nan})\n",
    "    \n",
    "    if(strategy == 'uniform'):\n",
    "        lim_inf = np.linspace(0, 0.9, 10)\n",
    "        for idx, lim in enumerate(lim_inf):\n",
    "            df.loc[df['proba'] >= lim, 'bin'] = idx\n",
    "\n",
    "    elif(strategy == 'quantile'):\n",
    "        pass\n",
    "    \n",
    "    df_bin_groups = pd.concat([df.groupby('bin').mean(), df['bin'].value_counts()], axis = 1)\n",
    "    df_bin_groups['ece'] = (df_bin_groups['target'] - df_bin_groups['proba']).abs() * (df_bin_groups['bin'] / df.shape[0])\n",
    "    return df_bin_groups['ece'].sum()"
   ]
  },
  {
   "cell_type": "code",
   "execution_count": null,
   "id": "9ed46833",
   "metadata": {
    "ExecuteTime": {
     "end_time": "2023-04-11T16:49:40.466931Z",
     "start_time": "2023-04-11T16:49:35.088486Z"
    }
   },
   "outputs": [],
   "source": [
    "from matplotlib import pyplot\n",
    "import calibration as cal\n",
    "\n",
    "X_train, X_test, y_train, y_test = train_test_split(X, y, test_size=0.40, random_state=random.randint(1, 10000))\n",
    "X_train['mcid'] = y_train\n",
    "X_tuning['mcid'] = y_tuning\n",
    "X_train = pd.concat([X_train, X_tuning])\n",
    "y_train = X_train['mcid']\n",
    "X_train = X_train.drop(columns = ['mcid'])\n",
    "X_tuning = X_tuning.drop(columns = ['mcid'])\n",
    "\n",
    "params = logreg_study.best_params\n",
    "logreg = LogisticRegression(class_weight = {0: params.pop('class_weight')}, **params, max_iter = 5000, solver = 'liblinear')\n",
    "\n",
    "params = svc_study.best_params\n",
    "svc = SVC(class_weight = {0: params.pop('class_weight')}, **params)\n",
    "\n",
    "params = rt_study.best_params\n",
    "rt = RandomForestClassifier(class_weight = {0: params.pop('class_weight')}, **params)\n",
    "\n",
    "params = nb_study.best_params\n",
    "nb = BernoulliNB(**params)\n",
    "\n",
    "\n",
    "models = [logreg, svc, rt]\n",
    "models_names = ['LogisticRegression', 'SVC', 'RandomForest']\n",
    "\n",
    "i = 0\n",
    "y_test = y_test.to_numpy().ravel()\n",
    "y_test = [int(x) for x in y_test]\n",
    "\n",
    "for model in models:\n",
    "    calibrated_clf = CalibratedClassifierCV(model, cv=3, method='sigmoid')\n",
    "    calibrated_clf.fit(X_train, y_train)\n",
    "    probs = calibrated_clf.predict_proba(X_test)[:, 1]\n",
    "    \n",
    "    # reliability diagram\n",
    "    fop, mpv = calibration_curve(y_test, probs, n_bins=10)\n",
    "    # plot perfectly calibrated\n",
    "    pyplot.plot([0, 1], [0, 1], linestyle='--')\n",
    "    # plot model reliability\n",
    "    pyplot.plot(mpv, fop, marker='.')\n",
    "\n",
    "    pyplot.xlabel('Average Predicted Probability in each bin')\n",
    "    pyplot.ylabel('Ratio of positives')\n",
    "    pyplot.title(models_names[i] + ' (ECE = ' + str(ece(y_test, probs)) + ')')\n",
    "    pyplot.savefig(common + 'calibrating/' + path + '/' + models_names[i] + '.png')\n",
    "    pyplot.show()\n",
    "    i += 1\n"
   ]
  },
  {
   "cell_type": "code",
   "execution_count": null,
   "id": "ed2bd4ac",
   "metadata": {},
   "outputs": [],
   "source": [
    "models = [logreg_l1, logreg_l2, knn, svc, nb, dt, rt, xgbx, qda]\n",
    "sns.set(font_scale=1.5)\n",
    "sns.set_color_codes(\"muted\")\n",
    "\n",
    "plt.figure(figsize=(10, 8))\n",
    "for model in models:\n",
    "    print(model)\n",
    "    fpr, tpr, thresholds = roc_curve(y_test, model.predict_proba(X_test)[:,1], pos_label=1)\n",
    "    lw = 2\n",
    "    plt.plot(fpr, tpr, lw=lw, label='ROC curve ')\n",
    "    plt.plot([0, 1], [0, 1])\n",
    "    plt.xlim([0.0, 1.0])\n",
    "    plt.ylim([0.0, 1.05])\n",
    "    plt.xlabel('False Positive Rate')\n",
    "    plt.ylabel('True Positive Rate')\n",
    "    plt.title('ROC curve')\n",
    "    plt.show()"
   ]
  },
  {
   "cell_type": "markdown",
   "id": "e05b5fa8",
   "metadata": {},
   "source": [
    "# Важность признаков"
   ]
  },
  {
   "cell_type": "code",
   "execution_count": null,
   "id": "63d8c77c",
   "metadata": {
    "ExecuteTime": {
     "end_time": "2023-04-12T12:06:41.493867Z",
     "start_time": "2023-04-12T12:05:37.040690Z"
    }
   },
   "outputs": [],
   "source": [
    "weights = {\n",
    "    'LogisticRegression': [],\n",
    "    'RandomForest': [], \n",
    "    'XGB': []\n",
    "}\n",
    "for i in range(20):\n",
    "    X_train, X_test, y_train, y_test = train_test_split(X, y, test_size=0.40, random_state=random.randint(1, 10000))\n",
    "    X_train['mcid'] = y_train\n",
    "    X_tuning['mcid'] = y_tuning\n",
    "    X_train = pd.concat([X_train, X_tuning])\n",
    "    y_train = X_train['mcid']\n",
    "    X_train = X_train.drop(columns = ['mcid'])\n",
    "    X_tuning = X_tuning.drop(columns = ['mcid'])\n",
    "\n",
    "    params = logreg_study.best_params\n",
    "    logreg = LogisticRegression(class_weight = {0: params.pop('class_weight')}, **params, max_iter = 5000, solver = 'liblinear')\n",
    "\n",
    "    params = rt_study.best_params\n",
    "    rt = RandomForestClassifier(class_weight = {0: params.pop('class_weight')}, **params)\n",
    "\n",
    "    params = xgb_study.best_params\n",
    "    xgbx = xgb.XGBClassifier(**params)\n",
    "\n",
    "    models = [logreg, rt, xgbx]\n",
    "    models_names = ['LogisticRegression', 'RandomForest', 'XGB']\n",
    "\n",
    "    for model in models:\n",
    "        model.fit(X_train, y_train)\n",
    "    \n",
    "    j = 0\n",
    "    for model in models:\n",
    "        if models_names[j] == 'LogisticRegression':\n",
    "            importances = np.asarray(logreg.coef_[0])\n",
    "            feature_scores = pd.Series(np.abs(importances), index=X.columns).sort_values(ascending=False)\n",
    "            feature_scores = ( feature_scores - min(feature_scores) )/(max(feature_scores) - min(feature_scores))\n",
    "            weights[models_names[j]].append(feature_scores)\n",
    "        elif models_names[j] == 'RandomForest':\n",
    "            feature_names = X_train.columns\n",
    "            importances = rt.feature_importances_\n",
    "            forest_importances = pd.Series(importances, index=feature_names)\n",
    "            feature_scores = ( feature_scores - min(feature_scores) )/(max(feature_scores) - min(feature_scores))\n",
    "            feature_scores = pd.Series(xgbx.feature_importances_, index=feature_names).sort_values(ascending=False)\n",
    "            weights[models_names[j]].append(feature_scores)\n",
    "        elif models_names[j] == 'XGB':\n",
    "            feature_names = X_train.columns\n",
    "            importances = xgbx.feature_importances_\n",
    "            forest_importances = pd.Series(importances, index=feature_names)\n",
    "            feature_scores = ( feature_scores - min(feature_scores) )/(max(feature_scores) - min(feature_scores))\n",
    "            feature_scores = pd.Series(xgbx.feature_importances_, index=feature_names).sort_values(ascending=False)\n",
    "            weights[models_names[j]].append(feature_scores)\n",
    "        else:\n",
    "            print('Oops')\n",
    "        j += 1\n",
    "    "
   ]
  },
  {
   "cell_type": "code",
   "execution_count": null,
   "id": "37267c70",
   "metadata": {
    "ExecuteTime": {
     "end_time": "2023-04-12T12:07:00.001189Z",
     "start_time": "2023-04-12T12:06:59.985187Z"
    }
   },
   "outputs": [],
   "source": [
    "logreg_weights = pd.DataFrame(weights['LogisticRegression'])\n",
    "rt_weights = pd.DataFrame(weights['RandomForest'])\n",
    "xgb_weights = pd.DataFrame(weights['XGB'])"
   ]
  },
  {
   "cell_type": "code",
   "execution_count": null,
   "id": "eb922b7b",
   "metadata": {
    "ExecuteTime": {
     "end_time": "2023-04-12T12:07:00.610987Z",
     "start_time": "2023-04-12T12:07:00.582870Z"
    }
   },
   "outputs": [],
   "source": [
    "logreg_weights.to_csv('feature_scores/' + path + '/csv/logreg.csv')\n",
    "rt_weights.to_csv('feature_scores/' + path + '/csv/rt.csv')\n",
    "xgb_weights.to_csv('feature_scores/' + path + '/csv/xgb.csv')"
   ]
  },
  {
   "cell_type": "markdown",
   "id": "6e22bd91",
   "metadata": {},
   "source": [
    "### Логистическая регрессия"
   ]
  },
  {
   "cell_type": "code",
   "execution_count": 175,
   "id": "5a5af7ad",
   "metadata": {
    "ExecuteTime": {
     "end_time": "2023-04-12T12:07:02.777966Z",
     "start_time": "2023-04-12T12:07:02.476026Z"
    }
   },
   "outputs": [
    {
     "data": {
      "image/png": "[encoded data removed]",
      "text/plain": [
       "<Figure size 640x480 with 1 Axes>"
      ]
     },
     "metadata": {},
     "output_type": "display_data"
    }
   ],
   "source": [
    "importances = []\n",
    "for column in rt_weights.columns:\n",
    "    importances.append(mean(rt_weights[column]))\n",
    "\n",
    "importances = np.asarray(importances)\n",
    "\n",
    "feature_scores = pd.Series(np.abs(importances), index=X.columns).sort_values(ascending=False)\n",
    "\n",
    "fig, ax = plt.subplots()\n",
    "feature_scores[0:12].plot.bar(ax=ax)\n",
    "ax.set_title(\"Feature importances (Logistic Regression)\")\n",
    "ax.set_ylabel(\"Mean decrease in impurity\")\n",
    "fig.tight_layout()"
   ]
  },
  {
   "cell_type": "markdown",
   "id": "292fec3d",
   "metadata": {},
   "source": [
    "### Случайный лес"
   ]
  },
  {
   "cell_type": "code",
   "execution_count": 176,
   "id": "faf3b828",
   "metadata": {
    "ExecuteTime": {
     "end_time": "2023-04-12T12:07:04.099573Z",
     "start_time": "2023-04-12T12:07:03.683101Z"
    }
   },
   "outputs": [
    {
     "data": {
      "image/png": "[encoded data removed]",
      "text/plain": [
       "<Figure size 640x480 with 1 Axes>"
      ]
     },
     "metadata": {},
     "output_type": "display_data"
    }
   ],
   "source": [
    "feature_names = X_train.columns\n",
    "\n",
    "importances = []\n",
    "for column in rt_weights.columns:\n",
    "    importances.append(mean(rt_weights[column]))\n",
    "\n",
    "forest_importances = pd.Series(importances)\n",
    "\n",
    "feature_scores = pd.Series(xgbx.feature_importances_, index=feature_names).sort_values(ascending=False)\n",
    "\n",
    "fig, ax = plt.subplots()\n",
    "feature_scores[:12].plot.bar(ax=ax)\n",
    "ax.set_title(\"Feature importances using MDI (Random Forest)\")\n",
    "ax.set_ylabel(\"Mean decrease in impurity\")\n",
    "fig.tight_layout()"
   ]
  },
  {
   "cell_type": "markdown",
   "id": "bc957a37",
   "metadata": {},
   "source": [
    "### XGBX"
   ]
  },
  {
   "cell_type": "code",
   "execution_count": 177,
   "id": "85ce28b7",
   "metadata": {
    "ExecuteTime": {
     "end_time": "2023-04-12T12:07:05.438282Z",
     "start_time": "2023-04-12T12:07:05.046386Z"
    },
    "scrolled": true
   },
   "outputs": [
    {
     "data": {
      "image/png": "[encoded data removed]",
      "text/plain": [
       "<Figure size 640x480 with 1 Axes>"
      ]
     },
     "metadata": {},
     "output_type": "display_data"
    }
   ],
   "source": [
    "feature_names = X_train.columns\n",
    "\n",
    "importances = []\n",
    "for column in xgb_weights.columns:\n",
    "    importances.append(mean(rt_weights[column]))\n",
    "\n",
    "forest_importances = pd.Series(importances)\n",
    "\n",
    "feature_scores = pd.Series(xgbx.feature_importances_, index=feature_names).sort_values(ascending=False)\n",
    "\n",
    "fig, ax = plt.subplots()\n",
    "feature_scores[:12].plot.bar(ax=ax)\n",
    "ax.set_title(\"Feature importances using MDI (XGB)\")\n",
    "ax.set_ylabel(\"Mean decrease in impurity\")\n",
    "fig.tight_layout()"
   ]
  }
 ],
 "metadata": {
  "kernelspec": {
   "display_name": "Python 3 (ipykernel)",
   "language": "python",
   "name": "python3"
  },
  "language_info": {
   "codemirror_mode": {
    "name": "ipython",
    "version": 3
   },
   "file_extension": ".py",
   "mimetype": "text/x-python",
   "name": "python",
   "nbconvert_exporter": "python",
   "pygments_lexer": "ipython3",
   "version": "3.10.7"
  },
  "vscode": {
   "interpreter": {
    "hash": "03c6d2f724ba1e865bf8122f8ebf453b55c4b72ef7f5fb041eebb1dcb382c96e"
   }
  }
 },
 "nbformat": 4,
 "nbformat_minor": 5
}
